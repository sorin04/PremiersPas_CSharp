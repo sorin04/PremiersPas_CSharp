{
 "cells": [
  {
   "attachments": {},
   "cell_type": "markdown",
   "metadata": {},
   "source": [
    "# Tableaux, Listes et Collections\n",
    "\n"
   ]
  },
  {
   "attachments": {},
   "cell_type": "markdown",
   "metadata": {},
   "source": [
    "Tableaux, Listes et Collections peuvent être très pratiques. Commençons par un tableau.\n",
    "> Lancez le code suivant. Est ce que c'est ce que vous attendiez?"
   ]
  },
  {
   "cell_type": "code",
   "execution_count": null,
   "metadata": {
    "dotnet_interactive": {
     "language": "csharp"
    },
    "polyglot_notebook": {
     "kernelName": "csharp"
    }
   },
   "outputs": [],
   "source": [
    "using System;\n",
    "\n",
    "var names = new string[3]{ \"<name>\", \"Diana\", \"Bruce\" };\n",
    "foreach (var name in names)\n",
    "{\n",
    "    Console.WriteLine($\"Hello {name.ToUpper()}!\");\n",
    "}"
   ]
  },
  {
   "attachments": {},
   "cell_type": "markdown",
   "metadata": {},
   "source": [
    "## Que signifie ce code?\n",
    "\n",
    "- **var**: C'est une façon de déclarer une variable, sans connaitre ou sans vouloir préciser le type de celle ci.\n",
    "Ici, on va obtenir un tableau de string, et immédiatement nous allons le remplir.  \n",
    "On aurait pu se passer de préciser la taille, car dans ce cas c'est l'initialisation qui détermine la taille.  \n",
    "Un tableau contient un nombre fixe d'éléments : Impossible de supprimer ou d'ajouter un nouvel élément.  "
   ]
  },
  {
   "attachments": {},
   "cell_type": "markdown",
   "metadata": {},
   "source": [
    "Continuons avec une liste.\n",
    "> Lancez le code suivant. Est ce que c'est ce que vous attendiez?"
   ]
  },
  {
   "cell_type": "code",
   "execution_count": null,
   "metadata": {
    "dotnet_interactive": {
     "language": "csharp"
    }
   },
   "outputs": [],
   "source": [
    "using System;\n",
    "using System.Collections.Generic;\n",
    "\n",
    "var names = new List<string> { \"<name>\", \"Diana\", \"Bruce\" };\n",
    "foreach (var name in names)\n",
    "{\n",
    "    Console.WriteLine($\"Hello {name.ToUpper()}!\");\n",
    "}"
   ]
  },
  {
   "attachments": {},
   "cell_type": "markdown",
   "metadata": {},
   "source": [
    "## Que signifie ce code?\n",
    "\n",
    "- **System.collections.Generic**: C'est un espace de noms, un **namespace**, qui contient les listes. Si vous ne précisez pas au debut du code que vous allez l'utiliser, il faudra écrire \"Systems.Collections.Generic.List\" chaque fois que vous voudrez utiliser une liste. Vous irez plus vite comme ça!\n",
    "- **List\\<string\\>**: Celà signifie que vous allez faire une liste de string. A la place de `string`, vous pouvez mettre `int`, `double`, ou n'importe quel autre type. Remarquez que l'on a crée une nouvelle liste en indiquant `new`.  \n",
    "- **foreach**: C'est un autre genre de boucle! Elle passe par chacun des éléments de la liste.\n",
    "- **name in names**: C'est une façon d'écrire que la plupart des gens apprécient: `names` indique la liste qui contient plusieurs noms. `name` est un élément de `names`."
   ]
  },
  {
   "attachments": {},
   "cell_type": "markdown",
   "metadata": {},
   "source": [
    "## Autre façon de faire\n",
    "\n",
    "Le code précédent est plus facile à lire que le code ci-dessous, mais celui-ci possède des éléments que vous devriez facilement reconnaitre, basés sur ce que l'on a déjà vu.\n",
    "Ce sont juste deux styles d'écriture différents. Utilisez celui qui vous semble le plus naturel!  \n",
    "> Essayez.\n",
    ">\n",
    "> Pouvez-vous identifier les similarités entre ces deux codes ?  \n",
    ">\n",
    "> Quelle écriture préférez vous?"
   ]
  },
  {
   "cell_type": "code",
   "execution_count": null,
   "metadata": {
    "dotnet_interactive": {
     "language": "csharp"
    }
   },
   "outputs": [],
   "source": [
    "using System;\n",
    "using System.Collections.Generic;\n",
    "\n",
    "var names = new List<string> { \"<name>\", \"Diana\", \"Bruce\" };\n",
    "for (int i = 0;i < names.Count; i++)\n",
    "{\n",
    "    Console.WriteLine($\"Hello {names[i].ToUpper()}\");\n",
    "}"
   ]
  },
  {
   "attachments": {},
   "cell_type": "markdown",
   "metadata": {},
   "source": [
    "## Add\n",
    "\n",
    "Vous pouvez ajouter des noms à la liste très facilement. Les Listes ont une méthode `Add()`, qui poussent un nouvel élément à la fin de la liste.\n",
    "> Essayez.\n",
    ">\n",
    "> Puis ajoutez votre nom à la place."
   ]
  },
  {
   "cell_type": "code",
   "execution_count": null,
   "metadata": {
    "dotnet_interactive": {
     "language": "csharp"
    }
   },
   "outputs": [],
   "source": [
    "var names = new List<string> { \"<name>\", \"Diana\", \"Bruce\" };\n",
    "\n",
    "names.Add(\"Sophia\");\n",
    "\n",
    "foreach (var name in names)\n",
    "{\n",
    "    Console.WriteLine($\"Hello {name.ToUpper()}!\");\n",
    "}"
   ]
  },
  {
   "attachments": {},
   "cell_type": "markdown",
   "metadata": {},
   "source": [
    "## Remove\n",
    "\n",
    "Vous pouvez également enlever des noms. Essayons celà:\n",
    "\n",
    "> Lancez le code.\n",
    ">\n",
    "> Puis choisissez un nom à supprimer.\n",
    ">\n",
    "> Que ce passe t'il quand on essie de supprimer quelque chose qui n'existe pas ?"
   ]
  },
  {
   "cell_type": "code",
   "execution_count": null,
   "metadata": {
    "dotnet_interactive": {
     "language": "csharp"
    }
   },
   "outputs": [],
   "source": [
    "var names = new List<string> { \"<name>\", \"Diana\", \"Bruce\" };\n",
    "\n",
    "names.Remove(\"<name>\");\n",
    "\n",
    "for (int i = 0;i < names.Count; i++)\n",
    "{\n",
    "    Console.WriteLine($\"Hello {names[i].ToUpper()}\");\n",
    "}"
   ]
  },
  {
   "attachments": {},
   "cell_type": "markdown",
   "metadata": {},
   "source": [
    "## Afficher un élément spécifique\n",
    "\n",
    "Comment faire si l'on ne veut pas afficher tous les noms? Comment faire si l'on veut afficher seulement un nom? C'est là qu'interviennent les crochets.\n",
    "> Essayez ce code.\n",
    ">\n",
    "> Essayez d'afficher un autre élément.\n",
    ">\n",
    "> Doit on utiliser 0 ou 1 pour afficher le premier élément?"
   ]
  },
  {
   "cell_type": "code",
   "execution_count": null,
   "metadata": {
    "dotnet_interactive": {
     "language": "csharp"
    }
   },
   "outputs": [],
   "source": [
    "var names = new List<string> { \"<name>\", \"Diana\", \"Bruce\" };\n",
    "Console.WriteLine(names[1]);"
   ]
  },
  {
   "attachments": {},
   "cell_type": "markdown",
   "metadata": {},
   "source": [
    "**`N'oubliez pas que les listes commencent à 0!`**"
   ]
  },
  {
   "attachments": {},
   "cell_type": "markdown",
   "metadata": {},
   "source": [
    "# Playground\n",
    "\n",
    "Testez ce que vous avez appris, voilà quelques idées:\n",
    "> Faites une liste de courses, que l'on va appeler `courses`.\n",
    ">\n",
    "> Pouvez vous afficher \"Acheter \\<course\\>!\" pour chaque élément?\n",
    ">\n",
    "> Quel est le troisième élément de la liste? Est-ce la même chose que `courses[3]?`\n",
    ">\n",
    "> Ajouter du \"dentifrice\".\n",
    ">\n",
    "> Retirer ce que vous aimez le moins.\n",
    ">\n",
    "> Maintenant, quel est le troisième de la liste?"
   ]
  },
  {
   "cell_type": "code",
   "execution_count": null,
   "metadata": {
    "dotnet_interactive": {
     "language": "csharp"
    }
   },
   "outputs": [],
   "source": [
    "Console.WriteLine(\"Playground\");"
   ]
  }
 ],
 "metadata": {
  "kernelspec": {
   "display_name": ".NET (C#)",
   "language": "C#",
   "name": ".net-csharp"
  },
  "language_info": {
   "name": "polyglot-notebook"
  },
  "polyglot_notebook": {
   "kernelInfo": {
    "defaultKernelName": "csharp",
    "items": [
     {
      "aliases": [],
      "name": ".NET"
     },
     {
      "aliases": [
       "C#",
       "c#"
      ],
      "languageName": "C#",
      "name": "csharp"
     },
     {
      "aliases": [
       "F#",
       "f#"
      ],
      "languageName": "F#",
      "name": "fsharp"
     },
     {
      "aliases": [],
      "languageName": "HTML",
      "name": "html"
     },
     {
      "aliases": [],
      "languageName": "KQL",
      "name": "kql"
     },
     {
      "aliases": [],
      "languageName": "Mermaid",
      "name": "mermaid"
     },
     {
      "aliases": [
       "powershell"
      ],
      "languageName": "PowerShell",
      "name": "pwsh"
     },
     {
      "aliases": [],
      "languageName": "SQL",
      "name": "sql"
     },
     {
      "aliases": [],
      "name": "value"
     },
     {
      "aliases": [
       "frontend"
      ],
      "name": "vscode"
     }
    ]
   }
  }
 },
 "nbformat": 4,
 "nbformat_minor": 2
}
