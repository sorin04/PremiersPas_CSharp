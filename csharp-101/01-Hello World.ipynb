{
 "cells": [
  {
   "attachments": {},
   "cell_type": "markdown",
   "metadata": {},
   "source": [
    "# C# en solo\n",
    "\n",
    "## C#: Hello World\n",
    "\n",
    "Ecrire notre premier programme en C# ! Il dit \"Bonjour à tous\" dans la console.\n",
    "> Passez la souris sur le code. Sur le coté gauche, cliquez sur le petit bouton \"play\" et le code va démarrer."
   ]
  },
  {
   "cell_type": "code",
   "execution_count": null,
   "metadata": {
    "dotnet_interactive": {
     "language": "csharp"
    }
   },
   "outputs": [],
   "source": [
    "Console.WriteLine(\"Bonjour à tous!\");"
   ]
  },
  {
   "attachments": {},
   "cell_type": "markdown",
   "metadata": {},
   "source": [
    "`Console.WriteLine` est une methode utilisée pour afficher un message dans la console.\n",
    "\n",
    "# Déclaration et usage des variables\n",
    "\n",
    "Une **variable** est un symbole que l'on peut utiliser pour stocker des valeurs. Par exemple, vous pouvez déclarer une nouvelle variable nommée  `aFriend` que vous pouvez utiliser avec `Console.WriteLine` pour afficher une chaine de caractères. Vous pouvez déclarer cette varaible en utilisant le type `string` ou en utilisant le mot-clé `var` qui va trouver le type pour vous.\n",
    "\n",
    "> Testez le code suivant et observez que **Fabrice** s'affiche.\n",
    ">\n",
    "> Puis, changez le contenu de la variable et lancez le à nouveau."
   ]
  },
  {
   "cell_type": "code",
   "execution_count": null,
   "metadata": {
    "dotnet_interactive": {
     "language": "csharp"
    }
   },
   "outputs": [],
   "source": [
    "var aFriend = \"Fabrice\";\n",
    "Console.WriteLine(aFriend);"
   ]
  },
  {
   "attachments": {},
   "cell_type": "markdown",
   "metadata": {},
   "source": [
    "# Combinaison de Strings\n",
    "\n",
    "Vous avez vu qu'il manquait \"Bonjour\" dans le bloc de code précédent. Vous pouvez corriger cela en combinant plusieurs chaines de caractères avec `+` pour créer une nouvelle chaine à afficher.\n",
    "\n",
    "> Lancez le code pour afficher un message de bienvenue!"
   ]
  },
  {
   "cell_type": "code",
   "execution_count": null,
   "metadata": {
    "dotnet_interactive": {
     "language": "csharp"
    }
   },
   "outputs": [],
   "source": [
    "Console.WriteLine(\"Bonjour \" + aFriend + \"!\");"
   ]
  },
  {
   "attachments": {},
   "cell_type": "markdown",
   "metadata": {},
   "source": [
    "# Interpolation de chaine\n",
    "\n",
    "Vous pouvez utiliser `+` pour fabriquer une nouvelle chaine à partir d'une **variable** et d'une **constante**. Il y a un meilleur moyen pour faire cela en plaçant la variable entre `{` et `}` pour dire au C# de remplace ce texte par la valeur de la variable. Cela s'appelle **string interpolation**. Il faut ajouter un `$` au début de l'apostrophe d'ouverture pour activer l'interpoliation de chaine."
   ]
  },
  {
   "cell_type": "code",
   "execution_count": null,
   "metadata": {
    "dotnet_interactive": {
     "language": "csharp"
    }
   },
   "outputs": [],
   "source": [
    "aFriend = \"string interpolation\";\n",
    "Console.WriteLine($\"Bonjour {aFriend}!\");"
   ]
  },
  {
   "attachments": {},
   "cell_type": "markdown",
   "metadata": {},
   "source": [
    "Et voilà !! Vous avez crée votre premier application C# et vous avez appris à combiner des chaines et à faire de l'interpolation de chaines."
   ]
  },
  {
   "attachments": {},
   "cell_type": "markdown",
   "metadata": {},
   "source": [
    "# Terrain de jeu: A vous de jouer\n",
    "\n",
    "Chaque module aura son petit \"playground\" à la fin. C'est un espace pour essayer d'écrire du code personnel, au lieu de regarder un code déjà fourni.\n",
    "Essayez d'écrire des phrases et des variables ! Voilà quelques exemples :\n",
    "> Ecrivez votre devise personnelle.\n",
    ">\n",
    "> Créez des variables avec vos plats préférés, et écrivez une petite histoire avec.\n",
    ">\n",
    "> **Challenge!**\n",
    ">\n",
    "> Créez un 'Mad Libs'! Créez quelques variables avec des verbes, des noms, etc, et utilisez les pour écrire une histoire. Demandez à un camarade de changer l'ordre d'affichage des variables et profitez !! :) "
   ]
  },
  {
   "cell_type": "code",
   "execution_count": null,
   "metadata": {
    "dotnet_interactive": {
     "language": "csharp"
    }
   },
   "outputs": [],
   "source": [
    "Console.WriteLine(\"Playground\");"
   ]
  }
 ],
 "metadata": {
  "kernelspec": {
   "display_name": ".NET (C#)",
   "language": "C#",
   "name": ".net-csharp"
  },
  "language_info": {
   "name": "polyglot-notebook"
  },
  "polyglot_notebook": {
   "kernelInfo": {
    "defaultKernelName": "csharp",
    "items": [
     {
      "aliases": [],
      "name": ".NET"
     },
     {
      "aliases": [
       "C#",
       "c#"
      ],
      "languageName": "C#",
      "name": "csharp"
     },
     {
      "aliases": [
       "F#",
       "f#"
      ],
      "languageName": "F#",
      "name": "fsharp"
     },
     {
      "aliases": [],
      "languageName": "HTML",
      "name": "html"
     },
     {
      "aliases": [
       "js"
      ],
      "languageName": "JavaScript",
      "name": "javascript"
     },
     {
      "aliases": [],
      "languageName": "KQL",
      "name": "kql"
     },
     {
      "aliases": [],
      "languageName": "Mermaid",
      "name": "mermaid"
     },
     {
      "aliases": [
       "powershell"
      ],
      "languageName": "PowerShell",
      "name": "pwsh"
     },
     {
      "aliases": [],
      "languageName": "SQL",
      "name": "sql"
     },
     {
      "aliases": [],
      "name": "value"
     },
     {
      "aliases": [
       "frontend"
      ],
      "name": "vscode"
     },
     {
      "aliases": [],
      "name": "webview"
     }
    ]
   }
  }
 },
 "nbformat": 4,
 "nbformat_minor": 2
}
