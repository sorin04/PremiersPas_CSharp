{
 "cells": [
  {
   "attachments": {},
   "cell_type": "markdown",
   "metadata": {},
   "source": [
    "# Nombres et Precision\n",
    "\n",
    "Comme on l'a vu précédemment, quand on fait des calculs avec entiers, on obtiendra des entiers comme résultat, pas de décimaux ou de fractions. Les nombres sont `tronqués`, ce qui signifie que le `reste` est coupé. On peut récupérer le reste avec l'opérateur `%`. Le reste, c'est la partie restante après une division entière.\n",
    "> Essayons!"
   ]
  },
  {
   "cell_type": "code",
   "execution_count": 1,
   "metadata": {
    "dotnet_interactive": {
     "language": "csharp"
    }
   },
   "outputs": [
    {
     "name": "stdout",
     "output_type": "stream",
     "text": [
      "quotient: 3\n",
      "reste: 2\n"
     ]
    }
   ],
   "source": [
    "int a = 7;\n",
    "int b = 4;\n",
    "int c = 3;\n",
    "int d = (a + b) / c;\n",
    "int e = (a + b) % c;\n",
    "Console.WriteLine($\"quotient: {d}\");\n",
    "Console.WriteLine($\"reste: {e}\");"
   ]
  },
  {
   "attachments": {},
   "cell_type": "markdown",
   "metadata": {},
   "source": [
    "Qu'est-ce que cela signifie? Et bien, quand on prend 11 que l'on divise par 3, on peut mettre 3 fois 3 dans 11, avec un reste de 2. 3 est le quotient, et 2 est le reste\n",
    "\n",
    "## Valeur Minimum et Maximum d'un Integer\n",
    "\n",
    "Du fait de la façon dont les entiers sont structurés, il y a une limite à leur valeur.\n",
    "> Découvrons ces valeurs avec le code suivant!"
   ]
  },
  {
   "cell_type": "code",
   "execution_count": 2,
   "metadata": {
    "dotnet_interactive": {
     "language": "csharp"
    }
   },
   "outputs": [
    {
     "name": "stdout",
     "output_type": "stream",
     "text": [
      "L'intervalle des entiers va de -2147483648 à 2147483647\r\n"
     ]
    }
   ],
   "source": [
    "int max = int.MaxValue;\n",
    "int min = int.MinValue;\n",
    "Console.WriteLine($\"L'intervalle des entiers va de {min} à {max}\");"
   ]
  },
  {
   "attachments": {},
   "cell_type": "markdown",
   "metadata": {},
   "source": [
    "C'est plutôt pas mal!\n",
    "> Mais que ce passe t'il quand on essaie d'aller plus loin?"
   ]
  },
  {
   "cell_type": "code",
   "execution_count": 6,
   "metadata": {
    "dotnet_interactive": {
     "language": "csharp"
    }
   },
   "outputs": [
    {
     "name": "stdout",
     "output_type": "stream",
     "text": [
      "Un exemple de dépassement de capacité: -2147483646\r\n"
     ]
    }
   ],
   "source": [
    "int what = max + 3;\n",
    "Console.WriteLine($\"Un exemple de dépassement de capacité: {what}\");"
   ]
  },
  {
   "attachments": {},
   "cell_type": "markdown",
   "metadata": {},
   "source": [
    "Ce nombre, qui auru du être très grand, est maintenant proche du minimum! C'est parce que l'`overflow`/`le dépassement de capacité`, \"fait le tour du compteur\", revenant à la valeur minimum et continue à compter.\n",
    "\n",
    "## Doubles: Precision et Size\n",
    "\n",
    "Les Doubles sont une autre forme de nombres. Ils peuvent contenir et répondre des valeurs flottantes.\n",
    "> Reprenons le code du départ, et voyons la différence avec des doubles."
   ]
  },
  {
   "cell_type": "code",
   "execution_count": 7,
   "metadata": {
    "dotnet_interactive": {
     "language": "csharp"
    }
   },
   "outputs": [
    {
     "name": "stdout",
     "output_type": "stream",
     "text": [
      "3.6666666666666665\r\n"
     ]
    }
   ],
   "source": [
    "double a = 7;\n",
    "double b = 4;\n",
    "double c = 3;\n",
    "double d = (a + b) / c;\n",
    "Console.WriteLine(d);"
   ]
  },
  {
   "attachments": {},
   "cell_type": "markdown",
   "metadata": {},
   "source": [
    "> Et maintenant, avec une expression un peu plus compliquée:"
   ]
  },
  {
   "cell_type": "code",
   "execution_count": 8,
   "metadata": {
    "dotnet_interactive": {
     "language": "csharp"
    }
   },
   "outputs": [
    {
     "name": "stdout",
     "output_type": "stream",
     "text": [
      "5.25\r\n"
     ]
    }
   ],
   "source": [
    "double a = 19;\n",
    "double b = 23;\n",
    "double c = 8;\n",
    "double d = (a + b) / c;\n",
    "Console.WriteLine(d);"
   ]
  },
  {
   "attachments": {},
   "cell_type": "markdown",
   "metadata": {},
   "source": [
    "> Trouvons l'intervalle de valeur des doubles:"
   ]
  },
  {
   "cell_type": "code",
   "execution_count": 9,
   "metadata": {
    "dotnet_interactive": {
     "language": "csharp"
    }
   },
   "outputs": [
    {
     "name": "stdout",
     "output_type": "stream",
     "text": [
      "L'intervalle des doubles va de -1.7976931348623157E+308 à 1.7976931348623157E+308\r\n"
     ]
    }
   ],
   "source": [
    "double max = double.MaxValue;\n",
    "double min = double.MinValue;\n",
    "Console.WriteLine($\"L'intervalle des doubles va de {min} à {max}\");"
   ]
  },
  {
   "attachments": {},
   "cell_type": "markdown",
   "metadata": {},
   "source": [
    "Ohh c'est grand ! Beaucoup plus large que les entiers.\n",
    "\n",
    "Bon, les doubles ne sont pas parfait. Ils ont aussi des erreurs d'arrondis.\n",
    "> Verifions les arrondis:"
   ]
  },
  {
   "cell_type": "code",
   "execution_count": 10,
   "metadata": {
    "dotnet_interactive": {
     "language": "csharp"
    }
   },
   "outputs": [
    {
     "name": "stdout",
     "output_type": "stream",
     "text": [
      "0.3333333333333333\r\n"
     ]
    }
   ],
   "source": [
    "double tiers = 1.0 / 3.0;\n",
    "Console.WriteLine(tiers);"
   ]
  },
  {
   "attachments": {},
   "cell_type": "markdown",
   "metadata": {},
   "source": [
    "Techniquement, 1/3 convertit en décimal devrait être des 3 qui se repètent de façon infinie, mais ce n'est pas le cas en informatique. Il est bon de la savoir, notamment si on veut travailler sur des valeurs extremements précises."
   ]
  },
  {
   "attachments": {},
   "cell_type": "markdown",
   "metadata": {},
   "source": [
    "# Playground\n",
    "\n",
    "Testez ce que vous avez appris, voilà quelques idées:\n",
    "> La lune est à 384,467 km de la Terre. Si on devait utiliser cette distance dans un programme, est ce que vous utiliseriez des entiers ou des doubles? Et si on devait utiliser la valeur en cm? Et le Soleil?  Lui, il est à 149,597,870 km.\n",
    ">\n",
    "> Si on est obligé d'utiliser des entiers, comment est-ce que l'on pourrait afficher les résultats d'une division?"
   ]
  },
  {
   "cell_type": "code",
   "execution_count": 4,
   "metadata": {
    "dotnet_interactive": {
     "language": "csharp"
    }
   },
   "outputs": [
    {
     "name": "stdout",
     "output_type": "stream",
     "text": [
      "MonProgramme\n",
      "38446700000cm\n",
      "14959787000000cm\n"
     ]
    }
   ],
   "source": [
    "Console.WriteLine(\"MonProgramme\");\n",
    "double cm = 100000;\n",
    "double d_Lune_Terre = 384467;\n",
    "double d_Terre_Soleil =149597870;\n",
    "double e=d_Terre_Soleil/d_Lune_Terre;\n",
    "\n",
    "\n",
    "Console.WriteLine((d_Lune_Terre *cm)+\"cm\");\n",
    "Console.WriteLine((d_Terre_Soleil*cm)+\"cm\");\n",
    "\n",
    "\n"
   ]
  }
 ],
 "metadata": {
  "kernelspec": {
   "display_name": ".NET (C#)",
   "language": "C#",
   "name": ".net-csharp"
  },
  "language_info": {
   "name": "polyglot-notebook"
  },
  "polyglot_notebook": {
   "kernelInfo": {
    "defaultKernelName": "csharp",
    "items": [
     {
      "aliases": [],
      "name": ".NET"
     },
     {
      "aliases": [
       "C#",
       "c#"
      ],
      "languageName": "C#",
      "name": "csharp"
     },
     {
      "aliases": [
       "F#",
       "f#"
      ],
      "languageName": "F#",
      "name": "fsharp"
     },
     {
      "aliases": [],
      "languageName": "HTML",
      "name": "html"
     },
     {
      "aliases": [],
      "languageName": "KQL",
      "name": "kql"
     },
     {
      "aliases": [],
      "languageName": "Mermaid",
      "name": "mermaid"
     },
     {
      "aliases": [
       "powershell"
      ],
      "languageName": "PowerShell",
      "name": "pwsh"
     },
     {
      "aliases": [],
      "languageName": "SQL",
      "name": "sql"
     },
     {
      "aliases": [],
      "name": "value"
     },
     {
      "aliases": [
       "frontend"
      ],
      "name": "vscode"
     }
    ]
   }
  }
 },
 "nbformat": 4,
 "nbformat_minor": 2
}
