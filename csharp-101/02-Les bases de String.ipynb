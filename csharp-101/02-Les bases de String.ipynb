{
 "cells": [
  {
   "attachments": {},
   "cell_type": "markdown",
   "metadata": {},
   "source": [
    "# Les bases de String\n",
    "\n",
    "## Qu'est ce qu'une chaine ?\n",
    "\n",
    "Une chaine/String est une séquence de caractères. Une bonne métaphore est un bracelet d'amitié, pour lequel vous assemblez des lettres pour faire un nom."
   ]
  },
  {
   "attachments": {},
   "cell_type": "markdown",
   "metadata": {},
   "source": [
    "## Strings et String Literals\n",
    "\n",
    "`firstFriend` et `secondFriend` sont des variables de type String. La ligne avec `Console.WriteLine` est aussi un String. C'est un **string literal**. Un string literal est un texte qui représente une chaine de caractères constante.\n",
    "\n",
    "> Essayez sur le code suivant.\n",
    ">\n",
    "> Changez le contenu des variables pour voir comment cela fonctionne."
   ]
  },
  {
   "cell_type": "code",
   "execution_count": 4,
   "metadata": {
    "dotnet_interactive": {
     "language": "csharp"
    }
   },
   "outputs": [
    {
     "name": "stdout",
     "output_type": "stream",
     "text": [
      "Mes amis sont Pavlo et Souleyman\r\n"
     ]
    }
   ],
   "source": [
    "var firstFriend = \"Pavlo\";\n",
    "var secondFriend = \"Souleyman\";\n",
    "Console.WriteLine($\"Mes amis sont {firstFriend} et {secondFriend}\");"
   ]
  },
  {
   "attachments": {},
   "cell_type": "markdown",
   "metadata": {},
   "source": [
    "## Propriétés de Chaines\n",
    "\n",
    "En utilisant les chaines, vous allez découvrir que c'est un peu plus qu'une collection de lettres. Vous pouvez obtenir la longueur d'une chaine en utilisant `Length`. `Length` est une **property** de String, qui renvoie le nombre de caractères d'une chaine.\n",
    "\n",
    "> Essayez de vérifier quelle est la longueur du nom de vos amis:"
   ]
  },
  {
   "cell_type": "code",
   "execution_count": 5,
   "metadata": {
    "dotnet_interactive": {
     "language": "csharp"
    }
   },
   "outputs": [
    {
     "name": "stdout",
     "output_type": "stream",
     "text": [
      "Le nom de Pavlo a 5 lettres.\n",
      "Le nom de Souleyman a 9 lettres.\n"
     ]
    }
   ],
   "source": [
    "Console.WriteLine($\"Le nom de {firstFriend} a {firstFriend.Length} lettres.\");\n",
    "Console.WriteLine($\"Le nom de {secondFriend} a {secondFriend.Length} lettres.\");"
   ]
  },
  {
   "attachments": {},
   "cell_type": "markdown",
   "metadata": {},
   "source": [
    "# Méthodes de Chaines\n",
    "\n",
    "## Espaces de début et de fin de ligne\n",
    "\n",
    "Supposons que vos chaines aient des espaces de début et de fin de chaine (on parle aussi de **white space** ou **espace blanc**) que vous ne voulez pas afficher. On va supprimer les espaces des ces chaines. La méthode `Trim` et les méthodes `TrimStart` et `TrimEnd` font ce travail. Il suffit d'utiliser ces méthodes pour supprimer les espaces de début et de fin de chaine.\n",
    "\n",
    "> Essayez les suppressions avec le code ci dessous. Les crochets sont là pour vous aider à voir les espaces."
   ]
  },
  {
   "cell_type": "code",
   "execution_count": 9,
   "metadata": {
    "dotnet_interactive": {
     "language": "csharp"
    }
   },
   "outputs": [
    {
     "name": "stdout",
     "output_type": "stream",
     "text": [
      "[      Hello World!       ]\n",
      "[Hello World!       ]\n",
      "[      Hello World!]\n",
      "[Hello World!]\n"
     ]
    }
   ],
   "source": [
    "string greeting = \"      Hello World!       \";\n",
    "Console.WriteLine($\"[{greeting}]\");\n",
    "\n",
    "string trimmedGreeting = greeting.TrimStart();\n",
    "Console.WriteLine($\"[{trimmedGreeting}]\");\n",
    "\n",
    "trimmedGreeting = greeting.TrimEnd();\n",
    "Console.WriteLine($\"[{trimmedGreeting}]\");\n",
    "\n",
    "trimmedGreeting = greeting.Trim();\n",
    "Console.WriteLine($\"[{trimmedGreeting}]\");"
   ]
  },
  {
   "attachments": {},
   "cell_type": "markdown",
   "metadata": {},
   "source": [
    "## Replacement\n",
    "\n",
    "Vous pouvez aussi replacer les éléments de chaine avec d'autres valeurs. Par exemple, dans le code ci dessous, vous pouvez prendre \"Hello World!\" et remplacer \"Hello\" par \"Salut le\", pour faire \"Salut le World!\"\n",
    "\n",
    "> Vérifiez. Essayez de faire d'autres remplacements"
   ]
  },
  {
   "cell_type": "code",
   "execution_count": 10,
   "metadata": {
    "dotnet_interactive": {
     "language": "csharp"
    }
   },
   "outputs": [
    {
     "name": "stdout",
     "output_type": "stream",
     "text": [
      "Hello World!\n",
      "Salut le World\n"
     ]
    }
   ],
   "source": [
    "string sayHello = \"Hello World!\";\n",
    "Console.WriteLine(sayHello);\n",
    "sayHello = sayHello.Replace(\"Hello\", \"Salut le\");\n",
    "Console.WriteLine(\"Salut le World\");"
   ]
  },
  {
   "attachments": {},
   "cell_type": "markdown",
   "metadata": {},
   "source": [
    "## Changement de Casse\n",
    "\n",
    "Parfois on souhaite que notre chaine soit entièrement en MAJUSULE ou en minuscule. `ToUpper` et `ToLower` servent à ça.\n",
    "> On s'est trompé dans l'exemple ci dessous. Pouvez vous le corriger pour que \"chuchoter\" soit en minuscule et \"crier\" en majuscule ?"
   ]
  },
  {
   "cell_type": "code",
   "execution_count": 11,
   "metadata": {
    "dotnet_interactive": {
     "language": "csharp"
    }
   },
   "outputs": [
    {
     "name": "stdout",
     "output_type": "stream",
     "text": [
      "chuchoter\n",
      "CRIER\n"
     ]
    }
   ],
   "source": [
    "Console.WriteLine(\"ChuChoTer\".ToLower());\n",
    "Console.WriteLine(\"cRieR\".ToUpper());"
   ]
  },
  {
   "attachments": {},
   "cell_type": "markdown",
   "metadata": {},
   "source": [
    "# Playground\n",
    "\n",
    "C'est maintenant à vous de tester ce que vous avez appris:\n",
    "> Creer trois variables avec trois noms de personnes différentes.\n",
    ">\n",
    "> Trouvez la longueur pour la première personne, mettez la deuxième en majusucle, et la troisième en minuscule.\n",
    ">\n",
    "> Combien y a t'il de lettres dans \"supercalifragilisticexpialidocious\"?\n",
    ">\n",
    "> Après avoir appliqué un `Trim`, combien de caractères ont été enlevé dans \"       friendship bracelet     \"? "
   ]
  },
  {
   "cell_type": "code",
   "execution_count": null,
   "metadata": {
    "dotnet_interactive": {
     "language": "csharp"
    }
   },
   "outputs": [],
   "source": [
    "Console.WriteLine(\"Playground\");\n",
    "var Pavlo =\"Pavlo\";\n",
    "var Souleyman = \"Soza\";\n",
    "var Lucas = \"Lucas\";\n",
    "Console.WriteLine(\"Lucas\".To);\n",
    "Console.WriteLine(\"       friendship bracelet     \");"
   ]
  }
 ],
 "metadata": {
  "kernelspec": {
   "display_name": ".NET (C#)",
   "language": "C#",
   "name": ".net-csharp"
  },
  "language_info": {
   "name": "polyglot-notebook"
  },
  "polyglot_notebook": {
   "kernelInfo": {
    "defaultKernelName": "csharp",
    "items": [
     {
      "aliases": [],
      "name": ".NET"
     },
     {
      "aliases": [
       "C#",
       "c#"
      ],
      "languageName": "C#",
      "name": "csharp"
     },
     {
      "aliases": [
       "F#",
       "f#"
      ],
      "languageName": "F#",
      "name": "fsharp"
     },
     {
      "aliases": [],
      "languageName": "HTML",
      "name": "html"
     },
     {
      "aliases": [],
      "languageName": "KQL",
      "name": "kql"
     },
     {
      "aliases": [],
      "languageName": "Mermaid",
      "name": "mermaid"
     },
     {
      "aliases": [
       "powershell"
      ],
      "languageName": "PowerShell",
      "name": "pwsh"
     },
     {
      "aliases": [],
      "languageName": "SQL",
      "name": "sql"
     },
     {
      "aliases": [],
      "name": "value"
     },
     {
      "aliases": [
       "frontend"
      ],
      "name": "vscode"
     }
    ]
   }
  }
 },
 "nbformat": 4,
 "nbformat_minor": 2
}
