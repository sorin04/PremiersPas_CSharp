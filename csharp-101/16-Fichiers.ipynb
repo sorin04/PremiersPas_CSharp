{
 "cells": [
  {
   "attachments": {},
   "cell_type": "markdown",
   "metadata": {},
   "source": [
    "# Fichiers\n",
    "\n",
    "Pour les manipulations de fichiers, le C# offre plusieurs classes outils en fonction de ce que l'on souhaite faire. La plupart des éléments qui nous intéressent se trouvent dans le namespace **System.IO**, il faudra donc préciser au début de notre code que nous allons `utiliser` celui en indiquant :  \n",
    "> using System.IO;  \n",
    "\n",
    "Voici quelques classes de fichiers et de répertoires couramment utilisées :\n",
    "\n",
    "[File](https://learn.microsoft.com/fr-fr/dotnet/api/system.io.file?view=net-7.0) fournit des méthodes statiques pour la création, la copie, la suppression, le déplacement et l'ouverture de fichiers et permet de créer un objet [FileStream](https://learn.microsoft.com/fr-fr/dotnet/api/system.io.filestream?view=net-7.0).\n",
    "\n",
    "[FileInfo](https://learn.microsoft.com/fr-fr/dotnet/api/system.io.fileinfo?view=net-7.0) fournit des méthodes d'instance pour la création, la copie, la suppression, le déplacement et l'ouverture de fichiers et permet de créer un objet [FileStream](https://learn.microsoft.com/fr-fr/dotnet/api/system.io.filestream?view=net-7.0).\n",
    "\n",
    "[Directory](https://learn.microsoft.com/fr-fr/dotnet/api/system.io.directory?view=net-7.0) fournit des méthodes statiques pour la création, le déplacement et l'énumération dans les répertoires et les sous-répertoires.\n",
    "\n",
    "[DirectoryInfo](https://learn.microsoft.com/fr-fr/dotnet/api/system.io.directoryinfo?view=net-7.0) fournit des méthodes d'instance pour la création, le déplacement et l'énumération dans les répertoires et les sous-répertoires.\n",
    "\n",
    "[Path](https://learn.microsoft.com/fr-fr/dotnet/api/system.io.path?view=net-7.0) fournit des méthodes et des propriétés pour le traitement des chaînes de répertoire.\n"
   ]
  },
  {
   "attachments": {},
   "cell_type": "markdown",
   "metadata": {},
   "source": [
    "## No Escape \n",
    "\n",
    "Une petite note pour la suite des cellules de code que vous allez trouver ci dessous.  \n",
    "\n",
    "En temps normal, lorsque l'on utilise un **\\\\** dans une chaine de caractère, c'est pour fabriquer un caractère spécial.  \n",
    "Par exemple, pour faire une tabulation, on va écrire \"\\t\".   \n",
    "\n",
    "Mais alors, comment faire pour écrire un **\\\\** ?  \n",
    "En général, on va le doubler dans la chaine de caractères. Ainsi pour obtenir \"C:\\Temp\", on va devoir écrire \"C:\\\\\\Temp\" <- Notez le double **\\\\**.  \n",
    "\n",
    "En C#, nous avons un autre possiblité : \n",
    "Il suffit de préfixer les chaines de caractères par un **@**.  \n",
    "Cela signifie que les caractères **\\\\** qu'elles contiennent sont ne sont pas utilisés pour faire des caractères spéciaux mais pour indiquer un **\\\\**   \n",
    "Si on reprend l'exemple précédent, il suffira donc d'écrire @\"C:\\Temp\".\n",
    "\n",
    "> Testez le :"
   ]
  },
  {
   "cell_type": "code",
   "execution_count": null,
   "metadata": {
    "dotnet_interactive": {
     "language": "csharp"
    }
   },
   "outputs": [],
   "source": [
    "string path1 = @\"c:\\temp\\MyTest.txt\";\n",
    "Console.WriteLine($\"Chemin : {path1}\");"
   ]
  },
  {
   "attachments": {},
   "cell_type": "markdown",
   "metadata": {},
   "source": [
    "## Classe Path\n",
    "\n",
    "Cette classe 'outil' permet de vérifier si une chaine de caractère contient une extension, si le chemin contenu est rattaché à la racine, de transformer un chemin relatif en chemin absolu, de vérifier si un chemin existe, ...   \n",
    "\n",
    "> Voici quelques exemples, n'hésitez pas à les modifier après avoir essayé (et compris!) ce qui se passe ci dessous.   \n",
    "Et explorez les différentes méthodes que vous propose `Path`"
   ]
  },
  {
   "cell_type": "code",
   "execution_count": null,
   "metadata": {
    "dotnet_interactive": {
     "language": "csharp"
    },
    "polyglot_notebook": {
     "kernelName": "csharp"
    }
   },
   "outputs": [],
   "source": [
    "using System.IO;\n",
    "\n",
    "string path1 = @\"c:\\temp\\MyTest.txt\";\n",
    "string path2 = @\"c:\\temp\\MyTest\";\n",
    "string path3 = @\"temp\";\n",
    "\n",
    "if (Path.HasExtension(path1))\n",
    "{\n",
    "    Console.WriteLine($\"{path1} a une extension.\");\n",
    "}\n",
    "\n",
    "if (!Path.HasExtension(path2))\n",
    "{\n",
    "    Console.WriteLine($\"{path2} n'a pas d'extension.\");\n",
    "}\n",
    "\n",
    "if (!Path.IsPathRooted(path3))\n",
    "{\n",
    "    Console.WriteLine($\"La chaine {path3} ne contient pas d'information racine.\");\n",
    "}\n",
    "\n",
    "Console.WriteLine($\"Le chemin complet de {path3} est {Path.GetFullPath(path3)}.\" );\n",
    "Console.WriteLine($\"{Path.GetTempPath()} est le chemin des fichiers temporaires.\" );\n",
    "Console.WriteLine($\"{Path.GetTempFileName()} peut être un nom de fichier temporaire.\" );"
   ]
  },
  {
   "attachments": {},
   "cell_type": "markdown",
   "metadata": {},
   "source": [
    "## Classe Directory\n",
    "\n",
    "Cette classe permet créer des dossiers, de les supprimer, de déplacer des fichiers d'un dossier à un autre, mais également d'énumérer (de lister) les fichiers qu'un dossier contient.\n",
    "\n",
    "> Essayez le code ci-dessous, puis précisez ce que vous cherchez, comme indiqué dans le commentaire."
   ]
  },
  {
   "cell_type": "code",
   "execution_count": null,
   "metadata": {
    "dotnet_interactive": {
     "language": "csharp"
    },
    "polyglot_notebook": {
     "kernelName": "csharp"
    }
   },
   "outputs": [],
   "source": [
    "using System.IO;\n",
    "\n",
    "string sourceDirectory = @\"C:\\Temp\";\n",
    "\n",
    "if (!Directory.Exists( sourceDirectory ) )\n",
    "{\n",
    "    Directory.CreateDirectory( sourceDirectory);\n",
    "}\n",
    "\n",
    "var listeDeFichiers = Directory.EnumerateFiles(sourceDirectory); \n",
    "// var listeDeFichiers = Directory.EnumerateFiles(sourceDirectory, \"*.txt\"); \n",
    "foreach (string currentFile in listeDeFichiers)\n",
    "{\n",
    "    // On extrait le nom démarrant après la longueur de la chaine qui indique le chemin\n",
    "    string fileName = currentFile.Substring(sourceDirectory.Length + 1);\n",
    "    Console.WriteLine( fileName );\n",
    "}"
   ]
  },
  {
   "attachments": {},
   "cell_type": "markdown",
   "metadata": {},
   "source": [
    "## Classe File\n",
    "\n",
    "Cette classe, comme son nom l'indique, permet les opérations en lien avec les fichiers eux mêmes.  \n",
    "On va donc pouvoir tester si un fichier existe, on va pouvoir le renommer, le supprimer, ...   \n",
    "On peut même Encrypter un fichier !!"
   ]
  },
  {
   "cell_type": "code",
   "execution_count": null,
   "metadata": {
    "dotnet_interactive": {
     "language": "csharp"
    },
    "polyglot_notebook": {
     "kernelName": "csharp"
    }
   },
   "outputs": [],
   "source": [
    "using System.IO;\n",
    "\n",
    "string path = @\"c:\\temp\\MyTest.txt\";\n",
    "if (File.Exists(path))\n",
    "{\n",
    "    string contenu = File.ReadAllText( path );\n",
    "    Console.Write( contenu );\n",
    "}"
   ]
  },
  {
   "cell_type": "code",
   "execution_count": 7,
   "metadata": {
    "dotnet_interactive": {
     "language": "csharp"
    },
    "polyglot_notebook": {
     "kernelName": "csharp"
    }
   },
   "outputs": [],
   "source": [
    "// On redefinit la variable...Bizarre, en général on ne peut pas... Pouvez vous trouver pourquoi ??\n",
    "string contenu = \"Ceci sera le nouveau contenu du fichier, quoiqu'il en soit !\"; \n",
    "File.WriteAllText( path, contenu );\n",
    "// Essayez de lire le contenu avec le Bloc Notes après encryptage, puis essayez de le lire sur un autre ordinateur.\n",
    "File.Encrypt( path );"
   ]
  },
  {
   "attachments": {},
   "cell_type": "markdown",
   "metadata": {},
   "source": [
    "# Terrain de jeu: A vous de jouer\n",
    "\n",
    "Essayons de fabriquer quelques logiciels \"outils\" :\n",
    "> Enumerez les fichiers qui sont dans un dossier, et déplacez les dans un autre dossier, à condition qu'il n'y ait pas déjà un fichier portant le même nom dans le dossier destination, et indiquez à l'écran si l'opération a pu se faire.. ou pas !  \n",
    "\n",
    "> Commencez à destination d'un dossier que vous savez vide, puis repetez l'opération... La deuxième fois, comme vous avez déjà remplis le dossier, le résultat devrait être différent.  "
   ]
  },
  {
   "cell_type": "code",
   "execution_count": null,
   "metadata": {
    "dotnet_interactive": {
     "language": "csharp"
    }
   },
   "outputs": [],
   "source": [
    "Console.WriteLine(\"Playground\");"
   ]
  }
 ],
 "metadata": {
  "kernelspec": {
   "display_name": ".NET (C#)",
   "language": "C#",
   "name": ".net-csharp"
  },
  "language_info": {
   "name": "polyglot-notebook"
  },
  "polyglot_notebook": {
   "kernelInfo": {
    "defaultKernelName": "csharp",
    "items": [
     {
      "aliases": [],
      "name": ".NET"
     },
     {
      "aliases": [
       "C#",
       "c#"
      ],
      "languageName": "C#",
      "name": "csharp"
     },
     {
      "aliases": [
       "F#",
       "f#"
      ],
      "languageName": "F#",
      "name": "fsharp"
     },
     {
      "aliases": [],
      "languageName": "HTML",
      "name": "html"
     },
     {
      "aliases": [
       "js"
      ],
      "languageName": "JavaScript",
      "name": "javascript"
     },
     {
      "aliases": [],
      "languageName": "KQL",
      "name": "kql"
     },
     {
      "aliases": [],
      "languageName": "Mermaid",
      "name": "mermaid"
     },
     {
      "aliases": [
       "powershell"
      ],
      "languageName": "PowerShell",
      "name": "pwsh"
     },
     {
      "aliases": [],
      "languageName": "SQL",
      "name": "sql"
     },
     {
      "aliases": [],
      "name": "value"
     },
     {
      "aliases": [
       "frontend"
      ],
      "name": "vscode"
     },
     {
      "aliases": [],
      "name": "webview"
     }
    ]
   }
  }
 },
 "nbformat": 4,
 "nbformat_minor": 2
}
