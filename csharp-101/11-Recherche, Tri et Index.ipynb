{
 "cells": [
  {
   "attachments": {},
   "cell_type": "markdown",
   "metadata": {},
   "source": [
    "# Recherche, Tri et Index\n"
   ]
  },
  {
   "attachments": {},
   "cell_type": "markdown",
   "metadata": {},
   "source": [
    "## Recherche\n",
    "\n",
    "Dans la fiche précédente, on a appris à trouver un élément stocké à un emplacement spécifique. Maintenant, pour un élément donné, trouvons sa position (On parle aussi d'Index).\n",
    "\n",
    "> Essayez le code\n",
    ">\n",
    "> A quelle position est \"Natasha\"?\n",
    ">\n",
    "> A quel index se trouve \"Bruce\"?"
   ]
  },
  {
   "cell_type": "code",
   "execution_count": null,
   "metadata": {
    "dotnet_interactive": {
     "language": "csharp"
    }
   },
   "outputs": [],
   "source": [
    "using System;\n",
    "using System.Collections.Generic;\n",
    "var names = new List<string> { \"Diana\", \"Bruce\", \"Peter\", \"Natasha\" };\n",
    "string name = \"Bruce\";\n",
    "var index = names.IndexOf(name);\n",
    "Console.WriteLine($\"Trouvé {name} en {index}\");"
   ]
  },
  {
   "attachments": {},
   "cell_type": "markdown",
   "metadata": {},
   "source": [
    "## Que signifie -1?\n",
    "\n",
    "Si `IndexOf()` retourne -1, celà signifie que l'élément n'a pas été trouvé dans la liste. Vous pouvez donc faire un simple `if` qui indique que l'on n'a pas trouvé l'élément:\n",
    "\n",
    "> Essayez le code.\n",
    ">\n",
    "> Essayez avec différents noms."
   ]
  },
  {
   "cell_type": "code",
   "execution_count": null,
   "metadata": {
    "dotnet_interactive": {
     "language": "csharp"
    }
   },
   "outputs": [],
   "source": [
    "var names = new List<string> { \"Diana\", \"Bruce\", \"Peter\", \"Natasha\" };\n",
    "string name = \"Scott\";\n",
    "var index = names.IndexOf(name);\n",
    "if(index == -1)\n",
    "{\n",
    "    Console.WriteLine($\"{name} non trouvé\");\n",
    "} \n",
    "else \n",
    "{\n",
    "    Console.WriteLine($\"Trouvé {names[index]} en {index}\");\n",
    "}"
   ]
  },
  {
   "attachments": {},
   "cell_type": "markdown",
   "metadata": {},
   "source": [
    "## Tri\n",
    "\n",
    "Jusqu'à maintenant, nous avons mis les noms dans un ordre quelconque. Mais parfois, il est bien d'avoir une liste triée. `Sort()` permet d'organiser une liste. Cette méthode regarde le type des éléments, et les organise de la façon la plus logique - S'il s'agit de String, le tri est alphabétique, si ce sont des nombres c'est du plus petit au plus grand.\n",
    "\n",
    "Attention !! Vous n'avez pas à écrire `sortedList = names.Sort()`, vous avez juste à écrire `names.Sort()`.  \n",
    "`Sort()` modifie la liste elle-même et vous n'avez pas à sauver l'action dans un nouvel objet.\n",
    "\n",
    "> Essayons!\n",
    ">\n",
    "> N'hésitez pas à ajouter d'autres noms afin qu'ils soient triés."
   ]
  },
  {
   "cell_type": "code",
   "execution_count": null,
   "metadata": {
    "dotnet_interactive": {
     "language": "csharp"
    }
   },
   "outputs": [],
   "source": [
    "var names = new List<string> { \"Diana\", \"Bruce\", \"Peter\", \"Natasha\" };\n",
    "Console.WriteLine(\"Avant le Tri:\");\n",
    "foreach(var name in names )\n",
    "{\n",
    "    Console.WriteLine(name);\n",
    "}\n",
    "\n",
    "names.Sort();\n",
    "\n",
    "Console.WriteLine();\n",
    "Console.WriteLine(\"Après le Tri:\");\n",
    "foreach(var name in names )\n",
    "{\n",
    "    Console.WriteLine(name);\n",
    "}"
   ]
  },
  {
   "attachments": {},
   "cell_type": "markdown",
   "metadata": {},
   "source": [
    "# Playground\n",
    "\n",
    "Testez ce que vous avez appris, voilà quelques idées:\n",
    "\n",
    "> Faites une liste de courses, et triée là! Quel est l'index des 'Carottes'?\n",
    ">\n",
    "> Essayez de faire une liste de nombres, entiers ou pas! Est ce qu'ils sont triés comme prévus?\n",
    ">\n",
    "> Affichez les différentes listes."
   ]
  },
  {
   "cell_type": "code",
   "execution_count": null,
   "metadata": {
    "dotnet_interactive": {
     "language": "csharp"
    }
   },
   "outputs": [],
   "source": [
    "Console.WriteLine(\"Playground\");"
   ]
  }
 ],
 "metadata": {
  "kernelspec": {
   "display_name": ".NET (C#)",
   "language": "C#",
   "name": ".net-csharp"
  },
  "language_info": {
   "name": "polyglot-notebook"
  },
  "polyglot_notebook": {
   "kernelInfo": {
    "defaultKernelName": "csharp",
    "items": [
     {
      "aliases": [],
      "name": ".NET"
     },
     {
      "aliases": [
       "C#",
       "c#"
      ],
      "languageName": "C#",
      "name": "csharp"
     },
     {
      "aliases": [
       "F#",
       "f#"
      ],
      "languageName": "F#",
      "name": "fsharp"
     },
     {
      "aliases": [],
      "languageName": "HTML",
      "name": "html"
     },
     {
      "aliases": [],
      "languageName": "KQL",
      "name": "kql"
     },
     {
      "aliases": [],
      "languageName": "Mermaid",
      "name": "mermaid"
     },
     {
      "aliases": [
       "powershell"
      ],
      "languageName": "PowerShell",
      "name": "pwsh"
     },
     {
      "aliases": [],
      "languageName": "SQL",
      "name": "sql"
     },
     {
      "aliases": [],
      "name": "value"
     },
     {
      "aliases": [
       "frontend"
      ],
      "name": "vscode"
     }
    ]
   }
  }
 },
 "nbformat": 4,
 "nbformat_minor": 2
}
