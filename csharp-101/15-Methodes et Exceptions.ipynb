{
 "cells": [
  {
   "attachments": {},
   "cell_type": "markdown",
   "metadata": {},
   "source": [
    "# Methodes et Exceptions\n",
    "\n",
    "Ci dessous, on a le code que vous avez fait jusqu'ici. Le Solde est obtenu par la somme de la liste des transactions, mais vous n'avez pas encore écrit de façon d'ajouter une transaction. Cela arrive souvent en programmation, où pour faire quelque chose de robuste, il faut revenir en arrière pour pouvoir avancer.\n",
    "\n",
    "> Executez le code des cellules ci-dessous."
   ]
  },
  {
   "cell_type": "code",
   "execution_count": 1,
   "metadata": {
    "dotnet_interactive": {
     "language": "csharp"
    }
   },
   "outputs": [],
   "source": [
    "public class Transaction\n",
    "{\n",
    "    // Proprietes\n",
    "    public decimal Montant { get; }\n",
    "    public DateTime Date { get; }\n",
    "    public string Notes\n",
    "    {\n",
    "        get;\n",
    "\n",
    "    }\n",
    "\n",
    "    // Constructor\n",
    "    public Transaction(decimal montant, DateTime date, string note)\n",
    "    {\n",
    "        this.Montant = montant;\n",
    "        this.Date = date;\n",
    "        this.Notes = note;\n",
    "    }\n",
    "}"
   ]
  },
  {
   "cell_type": "code",
   "execution_count": 2,
   "metadata": {
    "dotnet_interactive": {
     "language": "csharp"
    }
   },
   "outputs": [],
   "source": [
    "using System.Collections.Generic;\n",
    "\n",
    "public class CompteBancaire\n",
    "{\n",
    "    // Proprietes\n",
    "    public string Numero { get; }\n",
    "    public string Proprietaire { get; set; }\n",
    "    public decimal Solde\n",
    "    {\n",
    "        get\n",
    "\n",
    "        {\n",
    "            decimal solde = 0;\n",
    "            foreach (var item in allTransactions)\n",
    "            {\n",
    "                solde += item.Montant;\n",
    "            }\n",
    "\n",
    "            return solde;\n",
    "        }\n",
    "\n",
    "    }\n",
    "    private static int compteNumeroBase = 1234567890;\n",
    "    private List<Transaction> allTransactions = new List<Transaction>();\n",
    "\n",
    "    // Constructeur\n",
    "    public CompteBancaire(string nom, decimal initialSolde)\n",
    "    {\n",
    "        this.Proprietaire = nom;\n",
    "        this.Numero = compteNumeroBase.ToString();\n",
    "        compteNumeroBase++;\n",
    "\n",
    "    }\n",
    "\n",
    "    // Methodes\n",
    "    public void FaireDepot(decimal montant, DateTime date, string note)\n",
    "    {\n",
    "    }\n",
    "\n",
    "    public void FaireRetrait(decimal montant, DateTime date, string note)\n",
    "    {\n",
    "    }\n",
    "}"
   ]
  },
  {
   "cell_type": "code",
   "execution_count": null,
   "metadata": {
    "dotnet_interactive": {
     "language": "csharp"
    }
   },
   "outputs": [],
   "source": [
    "// Code de test\n",
    "\n",
    "var account = new CompteBancaire(\"Diana\", 1000);\n",
    "Console.WriteLine($\"Le Compte {account.Numero} a été crée pour {account.Proprietaire} avec un solde de {account.Solde} Euros\");"
   ]
  },
  {
   "attachments": {},
   "cell_type": "markdown",
   "metadata": {},
   "source": [
    "## #1: Ajout de FaireDepot\n",
    "\n",
    "Bon, une chose à la fois, prenons le temps de faire le code pour le dépôt. Cette addition va fabriquer une `Transaction` contenant le montant, la date, et une note, puis ajouter celle-ci à la liste des transactions.\n",
    "\n",
    "> Ajoutez ce code à l'intérieur de FaireDepot.\n",
    "\n",
    "```csharp\n",
    "    var depot = new Transaction(montant, date, note);\n",
    "    allTransactions.Add(depot);\n",
    "```"
   ]
  },
  {
   "cell_type": "code",
   "execution_count": null,
   "metadata": {
    "dotnet_interactive": {
     "language": "csharp"
    }
   },
   "outputs": [],
   "source": [
    "using System.Collections.Generic;\n",
    "\n",
    "public class CompteBancaire\n",
    "{\n",
    "    // Proprietes\n",
    "    public string Numero { get; }\n",
    "    public string Proprietaire { get; set; }\n",
    "    public decimal Solde\n",
    "    {\n",
    "        get\n",
    "\n",
    "        {\n",
    "            decimal solde = 0;\n",
    "            foreach (var item in allTransactions)\n",
    "            {\n",
    "                solde += item.Montant;\n",
    "            }\n",
    "\n",
    "            return solde;\n",
    "        }\n",
    "\n",
    "\n",
    "    }\n",
    "    private static int compteNumeroBase = 1234567890;\n",
    "    private List<Transaction> allTransactions = new List<Transaction>();\n",
    "\n",
    "    // Constructeur\n",
    "    public CompteBancaire(string nom, decimal initialSolde)\n",
    "    {\n",
    "        this.Proprietaire = nom;\n",
    "        this.Numero = compteNumeroBase.ToString();\n",
    "        compteNumeroBase++;\n",
    "\n",
    "    }\n",
    "\n",
    "    // Methodes\n",
    "    public void FaireDepot(decimal montant, DateTime date, string note)\n",
    "    {\n",
    "        //Ajoutez le code ici!\n",
    "    }\n",
    "\n",
    "    public void FaireRetrait(decimal montant, DateTime date, string note)\n",
    "    {\n",
    "    }\n",
    "}"
   ]
  },
  {
   "attachments": {},
   "cell_type": "markdown",
   "metadata": {},
   "source": [
    "## #2: Exceptions\n",
    "\n",
    "Mais....Et si quelqu'un essaie de faire un dépôt négatif? Ok, ça n'a pas de sens mais le code actuel permet de le faire. Ce que l'on peut faire dans ce cas, c'est générer une Exception. Avant de faire quoi que ce soit, vous devez vérifier que le montant est supérieur à 0. Si c'est la cas, parfait, le code continue en ajoutant la transaction. Sinon, le code génère une Excpetion, qui arrête le code et affiche le problème.\n",
    "\n",
    "> Placez ce code au tout début de la méthode `FaireDepot`.\n",
    "\n",
    "``` csharp\n",
    "if (montant <= 0)\n",
    "{\n",
    "    throw new ArgumentOutOfRangeException(nameof(montant), \"Le montant du depot doit être positif\");\n",
    "}\n",
    "```"
   ]
  },
  {
   "cell_type": "code",
   "execution_count": null,
   "metadata": {
    "dotnet_interactive": {
     "language": "csharp"
    }
   },
   "outputs": [],
   "source": [
    "using System.Collections.Generic;\n",
    "\n",
    "public class CompteBancaire\n",
    "{\n",
    "    // Proprietes\n",
    "    public string Numero { get; }\n",
    "    public string Proprietaire { get; set; }\n",
    "    public decimal Solde\n",
    "    {\n",
    "        get\n",
    "\n",
    "        {\n",
    "            decimal solde = 0;\n",
    "            foreach (var item in allTransactions)\n",
    "            {\n",
    "                solde += item.Montant;\n",
    "            }\n",
    "\n",
    "            return solde;\n",
    "        }\n",
    "\n",
    "    }\n",
    "    private static int compteNumeroBase = 1234567890;\n",
    "    private List<Transaction> allTransactions = new List<Transaction>();\n",
    "\n",
    "    // Constructeur\n",
    "    public CompteBancaire(string nom, decimal initialSolde)\n",
    "    {\n",
    "        this.Proprietaire = nom;\n",
    "        this.Numero = compteNumeroBase.ToString();\n",
    "        compteNumeroBase++;\n",
    "\n",
    "    }\n",
    "\n",
    "    // Methodes\n",
    "    public void FaireDepot(decimal montant, DateTime date, string note)\n",
    "    {\n",
    "        //Ajoutez le code ici!\n",
    "\n",
    "        var depot = new Transaction(montant, date, note);\n",
    "        allTransactions.Add(depot);\n",
    "    }\n",
    "\n",
    "    public void FaireRetrait(decimal montant, DateTime date, string note)\n",
    "    {\n",
    "    }\n",
    "}"
   ]
  },
  {
   "attachments": {},
   "cell_type": "markdown",
   "metadata": {},
   "source": [
    "## #3: Ajout de FaireRetrait\n",
    "\n",
    "Maintenant vous devez faire la même chose pour le retrait!\n",
    "\n",
    "> Ajoutez ce code à FaireRetrait.\n",
    "\n",
    "```csharp\n",
    "if (montant <= 0)\n",
    "{\n",
    "    throw new ArgumentOutOfRangeException(nameof(montant), \"Le montant du retrait doit être positif\");\n",
    "}\n",
    "if (Solde - montant < 0)\n",
    "{\n",
    "    throw new InvalidOperationException(\"Pas assez de fonds pour ce retrait\");\n",
    "}\n",
    "var retrait = new Transaction(-montant, date, note);\n",
    "allTransactions.Add(retrait);\n",
    "```"
   ]
  },
  {
   "cell_type": "code",
   "execution_count": null,
   "metadata": {
    "dotnet_interactive": {
     "language": "csharp"
    }
   },
   "outputs": [],
   "source": [
    "using System.Collections.Generic;\n",
    "\n",
    "public class CompteBancaire\n",
    "{\n",
    "    // Proprietes\n",
    "    public string Numero { get; }\n",
    "    public string Proprietaire { get; set; }\n",
    "    public decimal Solde\n",
    "    {\n",
    "        get\n",
    "\n",
    "        {\n",
    "            decimal solde = 0;\n",
    "            foreach (var item in allTransactions)\n",
    "            {\n",
    "                solde += item.Montant;\n",
    "            }\n",
    "\n",
    "            return solde;\n",
    "        }\n",
    "\n",
    "\n",
    "    }\n",
    "    private static int compteNumeroBase = 1234567890;\n",
    "    private List<Transaction> allTransactions = new List<Transaction>();\n",
    "\n",
    "    // Constructeur\n",
    "    public CompteBancaire(string nom, decimal initialSolde)\n",
    "    {\n",
    "        this.Proprietaire = nom;\n",
    "        this.Numero = compteNumeroBase.ToString();\n",
    "        compteNumeroBase++;\n",
    "\n",
    "    }\n",
    "\n",
    "    // Methodes\n",
    "    public void FaireDepot(decimal montant, DateTime date, string note)\n",
    "    {\n",
    "        if (montant <= 0)\n",
    "        {\n",
    "            throw new ArgumentOutOfRangeException(nameof(montant), \"Le montant du depot doit être positif\");\n",
    "        }\n",
    "        var depot = new Transaction(montant, date, note);\n",
    "        allTransactions.Add(depot);\n",
    "    }\n",
    "\n",
    "    public void FaireRetrait(decimal montant, DateTime date, string note)\n",
    "    {\n",
    "        //Ajoutez le code ici!\n",
    "    }\n",
    "}"
   ]
  },
  {
   "attachments": {},
   "cell_type": "markdown",
   "metadata": {},
   "source": [
    "## #4: Création du dépôt initial\n",
    "\n",
    "Maintenant que l'on a les dépôts et les retraits, vous allez pouvoir faire le dépôt initial à nouveau. Ce que vous allez faire, c'est créer un dépôt du montant initial lors de la création du compte bancaire.\n",
    "\n",
    "> Ajoutez le code suivant au constructeur de `CompteBancaire`.\n",
    "\n",
    "```\n",
    "FaireDepot(initialSolde, DateTime.Now, \"Solde initial\");\n",
    "```"
   ]
  },
  {
   "cell_type": "code",
   "execution_count": null,
   "metadata": {
    "dotnet_interactive": {
     "language": "csharp"
    }
   },
   "outputs": [],
   "source": [
    "using System.Collections.Generic;\n",
    "\n",
    "public class CompteBancaire\n",
    "{\n",
    "    // Proprietes\n",
    "    public string Numero { get; }\n",
    "    public string Proprietaire { get; set; }\n",
    "    public decimal Solde\n",
    "    {\n",
    "        get\n",
    "\n",
    "        {\n",
    "            decimal solde = 0;\n",
    "            foreach (var item in allTransactions)\n",
    "            {\n",
    "                solde += item.Montant;\n",
    "            }\n",
    "\n",
    "            return solde;\n",
    "        }\n",
    "\n",
    "\n",
    "    }\n",
    "    private static int compteNumeroBase = 1234567890;\n",
    "    private List<Transaction> allTransactions = new List<Transaction>();\n",
    "\n",
    "    // Constructeur\n",
    "    public CompteBancaire(string nom, decimal initialSolde)\n",
    "    {\n",
    "        this.Proprietaire = nom;\n",
    "        this.Numero = compteNumeroBase.ToString();\n",
    "        compteNumeroBase++;\n",
    "        //(Collez ici!)\n",
    "\n",
    "    }\n",
    "\n",
    "    // Methodes\n",
    "    public void FaireDepot(decimal montant, DateTime date, string note)\n",
    "    {\n",
    "        if (montant <= 0)\n",
    "        {\n",
    "            throw new ArgumentOutOfRangeException(nameof(montant), \"Le montant du depot doit être positif\");\n",
    "        }\n",
    "        var depot = new Transaction(montant, date, note);\n",
    "        allTransactions.Add(depot);\n",
    "    }\n",
    "\n",
    "    public void FaireRetrait(decimal montant, DateTime date, string note)\n",
    "    {\n",
    "        if (montant <= 0)\n",
    "        {\n",
    "            throw new ArgumentOutOfRangeException(nameof(montant), \"Le montant du retrait doit être positif\");\n",
    "        }\n",
    "        if (Solde - montant < 0)\n",
    "        {\n",
    "            throw new InvalidOperationException(\"Pas assez de fonds pour ce retrait\");\n",
    "        }\n",
    "        var retrait = new Transaction(-montant, date, note);\n",
    "        allTransactions.Add(retrait);\n",
    "        }\n",
    "}"
   ]
  },
  {
   "attachments": {},
   "cell_type": "markdown",
   "metadata": {},
   "source": [
    "# Vérifiez et testez votre travail\n",
    "\n",
    "On a ajouté des lignes au code de test, parce que maintenant vous pouvez faire des dépots et des retraits. Testez le!\n",
    "\n",
    "> Lancez les cellules de code suivantes qui contiennent les nouveautés.\n",
    ">\n",
    "> Faites vos propres dépots et retraits."
   ]
  },
  {
   "cell_type": "code",
   "execution_count": 1,
   "metadata": {
    "dotnet_interactive": {
     "language": "csharp"
    }
   },
   "outputs": [],
   "source": [
    "public class Transaction\n",
    "{\n",
    "    // Proprietes\n",
    "    public decimal Montant { get; }\n",
    "    public DateTime Date { get; }\n",
    "    public string Notes { get; }\n",
    "\n",
    "    // Constructeur\n",
    "    public Transaction(decimal montant, DateTime date, string note)\n",
    "    {\n",
    "        this.Montant = montant;\n",
    "        this.Date = date;\n",
    "        this.Notes = note;\n",
    "    }\n",
    "}"
   ]
  },
  {
   "cell_type": "code",
   "execution_count": 2,
   "metadata": {
    "dotnet_interactive": {
     "language": "csharp"
    }
   },
   "outputs": [],
   "source": [
    "using System.Collections.Generic;\n",
    "\n",
    "public class CompteBancaire\n",
    "{\n",
    "    // Proprietes\n",
    "    public string Numero { get; }\n",
    "    public string Proprietaire { get; set; }\n",
    "    public decimal Solde\n",
    "    {\n",
    "        get\n",
    "\n",
    "        {\n",
    "            decimal solde = 0;\n",
    "            foreach (var item in allTransactions)\n",
    "            {\n",
    "                solde += item.Montant;\n",
    "            }\n",
    "\n",
    "            return solde;\n",
    "        }\n",
    "\n",
    "\n",
    "    }\n",
    "    private static int compteNumeroBase = 1234567890;\n",
    "    private List<Transaction> allTransactions = new List<Transaction>();\n",
    "\n",
    "    // Constructeur\n",
    "    public CompteBancaire(string nom, decimal initialSolde)\n",
    "    {\n",
    "\n",
    "        this.Proprietaire = nom;\n",
    "        this.Numero = compteNumeroBase.ToString();\n",
    "        compteNumeroBase++;\n",
    "        FaireDepot(initialSolde, DateTime.Now, \"Solde initial\"); //(#4)\n",
    "\n",
    "    }\n",
    "\n",
    "    // Methodes\n",
    "    public void FaireDepot(decimal montant, DateTime date, string note)\n",
    "    {\n",
    "        //(#2)\n",
    "        if (montant <= 0)\n",
    "        {\n",
    "            throw new ArgumentOutOfRangeException(nameof(montant), \"Le montant du depot doit être positif\");\n",
    "        }\n",
    "        //(#1)\n",
    "        var depot = new Transaction(montant, date, note);\n",
    "        allTransactions.Add(depot);\n",
    "    }\n",
    "\n",
    "    public void FaireRetrait(decimal montant, DateTime date, string note)\n",
    "    {\n",
    "        //(#3)\n",
    "        if (montant <= 0)\n",
    "        {\n",
    "            throw new ArgumentOutOfRangeException(nameof(montant), \"Le montant du retrait doit être positif\");\n",
    "        }\n",
    "        if (Solde - montant < 0)\n",
    "        {\n",
    "            throw new InvalidOperationException(\"Pas assez de fonds pour faire ce retrait\");\n",
    "        }\n",
    "        var retrait = new Transaction(-montant, date, note);\n",
    "        allTransactions.Add(retrait);\n",
    "    }\n",
    "}"
   ]
  },
  {
   "cell_type": "code",
   "execution_count": 3,
   "metadata": {
    "dotnet_interactive": {
     "language": "csharp"
    }
   },
   "outputs": [
    {
     "name": "stdout",
     "output_type": "stream",
     "text": [
      "Le Compte 1234567890 a été crée pour Kendra avec un solde de 1000 Euros\n",
      "500\n",
      "600\n"
     ]
    }
   ],
   "source": [
    "var account = new CompteBancaire(\"Diana\", 1000);\n",
    "Console.WriteLine($\"Le Compte {account.Numero} a été crée pour {account.Proprietaire} avec un solde de {account.Solde} Euros\");\n",
    "\n",
    "account.FaireRetrait(500, DateTime.Now, \"Paiement du loyer\");  // Ajoutez du code de test\n",
    "Console.WriteLine(account.Solde);\n",
    "account.FaireDepot(100, DateTime.Now, \"Reboursement des copains\");\n",
    "Console.WriteLine(account.Solde);"
   ]
  },
  {
   "attachments": {},
   "cell_type": "markdown",
   "metadata": {},
   "source": [
    "# Bilan\n",
    "\n",
    "Vous l'avez fait! Vous avez réussi à créer une classe pour gérer un compte bancaire qui a les propriétés suivantes:\n",
    "\n",
    "> Il possède un nombre à dix chiffres qui l'identifie de façon unique.\n",
    ">\n",
    "> Il a une chaine de caractère pour stocker le nom du propriétaire.\n",
    ">\n",
    "> On peut connaitre son solde.\n",
    ">\n",
    "> Il accepte des dépôts.\n",
    ">\n",
    "> Il accepte des retraits.\n",
    ">\n",
    "> Le solde initial doit être positif.\n",
    ">\n",
    "> Les retraits ne doivent pas aboutir à un solde négatif.\n",
    ">\n",
    "\n",
    "## Travail supplémentaire\n",
    "\n",
    "Maintenant que vous avez crée la classe de compte bancaire, vous pouvez la tester! Alors, voici un défi:\n",
    "> Créer une façon d'afficher la liste des toutes les transactions, en incluant la date et les commentaires."
   ]
  },
  {
   "attachments": {},
   "cell_type": "markdown",
   "metadata": {},
   "source": [
    "# Allez plus loin\n",
    "\n",
    "Vous avez terminé cette leçon, bravo! Il y a plein d'autres choses à apprendre, alors continuez!\n",
    "\n",
    "On va aborder le traitement des fichiers, ce qui pourra nous aider à sauvegarder nos transactions bancaires...\n"
   ]
  }
 ],
 "metadata": {
  "kernelspec": {
   "display_name": ".NET (C#)",
   "language": "C#",
   "name": ".net-csharp"
  },
  "language_info": {
   "name": "polyglot-notebook"
  },
  "polyglot_notebook": {
   "kernelInfo": {
    "defaultKernelName": "csharp",
    "items": [
     {
      "aliases": [],
      "name": ".NET"
     },
     {
      "aliases": [
       "C#",
       "c#"
      ],
      "languageName": "C#",
      "name": "csharp"
     },
     {
      "aliases": [
       "F#",
       "f#"
      ],
      "languageName": "F#",
      "name": "fsharp"
     },
     {
      "aliases": [],
      "languageName": "HTML",
      "name": "html"
     },
     {
      "aliases": [
       "js"
      ],
      "languageName": "JavaScript",
      "name": "javascript"
     },
     {
      "aliases": [],
      "languageName": "KQL",
      "name": "kql"
     },
     {
      "aliases": [],
      "languageName": "Mermaid",
      "name": "mermaid"
     },
     {
      "aliases": [
       "powershell"
      ],
      "languageName": "PowerShell",
      "name": "pwsh"
     },
     {
      "aliases": [],
      "languageName": "SQL",
      "name": "sql"
     },
     {
      "aliases": [],
      "name": "value"
     },
     {
      "aliases": [
       "frontend"
      ],
      "name": "vscode"
     },
     {
      "aliases": [],
      "name": "webview"
     }
    ]
   }
  }
 },
 "nbformat": 4,
 "nbformat_minor": 2
}
