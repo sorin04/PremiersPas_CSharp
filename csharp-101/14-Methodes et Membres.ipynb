{
 "cells": [
  {
   "attachments": {},
   "cell_type": "markdown",
   "metadata": {},
   "source": [
    "# Méthodes et Membres\n",
    "\n",
    "\n",
    "Voilà notre compte bancaire: Il ne fait pas grand chose pour l'instant, mais affiche son propriétaire et son solde. Il n'affiche pas encore son numéro.  \n",
    "On va également travailler sur une classe Transaction, qui a été ajoutée pour vous.\n",
    "\n",
    "> Executez chaque morceau de code et regardons ce qui s'affiche. C'est avec celà qu'on a terminé la fois précédente."
   ]
  },
  {
   "cell_type": "code",
   "execution_count": null,
   "metadata": {
    "dotnet_interactive": {
     "language": "csharp"
    }
   },
   "outputs": [],
   "source": [
    "public class CompteBancaire\n",
    "{\n",
    "    // Variables (#1)\n",
    "    public string Numero { get; }\n",
    "    public string Proprietaire { get; set; }\n",
    "    public decimal Solde { get; }\n",
    "\n",
    "    // Constructeur (#2)\n",
    "    public CompteBancaire(string nom, decimal initialSolde)\n",
    "    {\n",
    "        this.Proprietaire = nom;\n",
    "        this.Solde = initialSolde;\n",
    "    }\n",
    "\n",
    "    // Methodes (#4)\n",
    "    public void FaireDepot(decimal montant, DateTime date, string note)\n",
    "    {\n",
    "    }\n",
    "\n",
    "    public void FaireRetrait(decimal montant, DateTime date, string note)\n",
    "    {\n",
    "    }\n",
    "}"
   ]
  },
  {
   "cell_type": "code",
   "execution_count": null,
   "metadata": {
    "dotnet_interactive": {
     "language": "csharp"
    }
   },
   "outputs": [],
   "source": [
    "var account = new CompteBancaire(\"Diana\", 1000);\n",
    "Console.WriteLine($\"Le Compte {account.Numero} a été crée pour {account.Proprietaire} avec un solde de {account.Solde} Euros\");"
   ]
  },
  {
   "attachments": {},
   "cell_type": "markdown",
   "metadata": {},
   "source": [
    "## #1: Numéro de Compte\n",
    "\n",
    "On a besoin d'un numéro de départ, sur lequel on va se baser pour toute nouvelle création d'un compte bancaire pour être sur que les numéro sont uniques. Ci dessous, on a le code de ce numero de \"base\". Qu'est ce que cela veut dire?\n",
    "\n",
    "- **Private**: Cela signifie que l'usage de ce Numero est interne à la classe. Il est impossible de l'utiliser sauf depuis le code interne.\n",
    "- **Static**: Cela signifie que ce Numero est unique pour l'ensemble des **objets** `CompteBancaire`. Si un compte le modifie, alors tous les autres voient la modification. C'est un moyen d'être sûr que nos numéros de compte bancaire sont uniques! Dès qu'un compte bancaire a utilisé sa valeur pour son numéro, on va ajouter 1 à cette \"base\" et le prochain compte crée aura un nouveau Numero.\n",
    "\n",
    "> Copiez le code suivant et collez le dans la section `// Proprietes` de la classe `CompteBancaire`.\n",
    "\n",
    "```csharp\n",
    "private static int compteNumeroBase = 1234567890;\n",
    "```\n",
    "\n",
    "> Copiez ce morceau et ajoutez le dans le constructeur.\n",
    "\n",
    "```csharp\n",
    "this.Numero = compteNumeroBase.ToString();\n",
    "compteNumeroBase++;\n",
    "```\n",
    "\n",
    "> Essayons ce code et regardons ce qui se passe!"
   ]
  },
  {
   "cell_type": "code",
   "execution_count": null,
   "metadata": {
    "dotnet_interactive": {
     "language": "csharp"
    }
   },
   "outputs": [],
   "source": [
    "public class CompteBancaire\n",
    "{\n",
    "    // Proprietes\n",
    "    public string Numero { get; }\n",
    "    public string Proprietaire { get; set; }\n",
    "    public decimal Solde { get; }\n",
    "    //(Collez la première partie ici!)\n",
    "\n",
    "    // Constructeur\n",
    "    public CompteBancaire(string nom, decimal initialSolde)\n",
    "    {\n",
    "        this.Proprietaire = nom;\n",
    "        this.Solde = initialSolde;\n",
    "        //(Collez la deuxième partie ici!)\n",
    "\n",
    "    }\n",
    "\n",
    "    // Methodes\n",
    "    public void FaireDepot(decimal montant, DateTime date, string note)\n",
    "    {\n",
    "    }\n",
    "\n",
    "    public void FaireRetrait(decimal montant, DateTime date, string note)\n",
    "    {\n",
    "    }\n",
    "}"
   ]
  },
  {
   "cell_type": "code",
   "execution_count": null,
   "metadata": {
    "dotnet_interactive": {
     "language": "csharp"
    }
   },
   "outputs": [],
   "source": [
    "var account = new CompteBancaire(\"Diana\", 1000);\n",
    "Console.WriteLine($\"Le Compte {account.Numero} a été crée pour {account.Proprietaire} avec un solde de {account.Solde} Euros\");"
   ]
  },
  {
   "attachments": {},
   "cell_type": "markdown",
   "metadata": {},
   "source": [
    "## #2: Propriete Transactions \n",
    "\n",
    "La prochaine chose dont on a besoin c'est d'un Solde! Une faois de le faire est juste de garder la valeur actuelle. Ceci dit, une autre façon c'est de concerver un historique des transactions. Pour faire cela, on va créer une classe transaction qui contiendra les informations d'une transaction.\n",
    "\n",
    "> Copier les Proprietes suivante dans la classe `Transaction`\n",
    "\n",
    "```csharp\n",
    "public decimal Montant { get; }\n",
    "public DateTime Date { get; }\n",
    "public string Notes { get; }\n",
    "```"
   ]
  },
  {
   "cell_type": "code",
   "execution_count": null,
   "metadata": {
    "dotnet_interactive": {
     "language": "csharp"
    }
   },
   "outputs": [],
   "source": [
    "public class Transaction\n",
    "{\n",
    "    // Proprietes (Collez ici!)\n",
    "\n",
    "    // Constructeur\n",
    "}"
   ]
  },
  {
   "attachments": {},
   "cell_type": "markdown",
   "metadata": {},
   "source": [
    "## #3: Constructeur de Transaction\n",
    "\n",
    "Maintenant, on va ajouter un constructeur à la classe!\n",
    "\n",
    "> Ajouter le code suivant à la classe `Transaction`.\n",
    "\n",
    "```csharp\n",
    "public Transaction(decimal montant, DateTime date, string note)\n",
    "{\n",
    "    this.Montant = montant;\n",
    "    this.Date = date;\n",
    "    this.Notes = note;\n",
    "}\n",
    "```"
   ]
  },
  {
   "cell_type": "code",
   "execution_count": null,
   "metadata": {
    "dotnet_interactive": {
     "language": "csharp"
    }
   },
   "outputs": [],
   "source": [
    "public class Transaction\n",
    "{\n",
    "    // Proprietes\n",
    "    public decimal Montant { get; }\n",
    "    public DateTime Date { get; }\n",
    "    public string Notes { get; }\n",
    "\n",
    "    // Constructeur (Coller ici!)\n",
    "}"
   ]
  },
  {
   "attachments": {},
   "cell_type": "markdown",
   "metadata": {},
   "source": [
    "## #4: Mise à jour de CompteBancaire\n",
    "\n",
    "Maintenant que l'on a une classe Transaction, vous allez pouvoir l'utiliser dans le compte bancaire. Premièrement, vous avez besoin d'une liste de transactions.\n",
    "\n",
    "> Copiez le code suivant dans la section Proprietes.\n",
    "\n",
    "```csharp\n",
    "private List<Transaction> allTransactions = new List<Transaction>();\n",
    "```"
   ]
  },
  {
   "cell_type": "code",
   "execution_count": null,
   "metadata": {
    "dotnet_interactive": {
     "language": "csharp"
    }
   },
   "outputs": [],
   "source": [
    "using System.Collections.Generic;\n",
    "\n",
    "public class CompteBancaire\n",
    "{\n",
    "    // Proprietes\n",
    "    public string Numero { get; }\n",
    "    public string Proprietaire { get; set; }\n",
    "    public decimal Solde{ get;}\n",
    "    private static int compteNumeroBase = 1234567890;\n",
    "    //(Collez ici!)\n",
    "\n",
    "    // Constructeur\n",
    "    public CompteBancaire(string nom, decimal initialSolde)\n",
    "    {\n",
    "        this.Proprietaire = nom;\n",
    "        this.Solde = initialSolde;\n",
    "        this.Numero = compteNumeroBase.ToString();\n",
    "        compteNumeroBase++;\n",
    "\n",
    "    }\n",
    "\n",
    "    // Methodes\n",
    "    public void FaireDepot(decimal montant, DateTime date, string note)\n",
    "    {\n",
    "    }\n",
    "\n",
    "    public void FaireRetrait(decimal montant, DateTime date, string note)\n",
    "    {\n",
    "    }\n",
    "}"
   ]
  },
  {
   "attachments": {},
   "cell_type": "markdown",
   "metadata": {},
   "source": [
    "## #5: Mise à jour du Solde\n",
    "\n",
    "Maintenant que l'on a une liste de transactions que l'on peut utiliser, vous allez devoir ajouter le `Solde`. Ce qu'il va falloir faire, lorsque quelqu'un veut obtenir le Solde, c'est de prendre en compte la liste des transactions et de les additionner, avant de retourner la réponse. On peut faire cela en ajoutant des instructions à l'opération `get` du Solde!\n",
    "\n",
    "> Dans `CompteBancaire`, replacez `public decimal Solde { get;}` par le code suivant:\n",
    "\n",
    "```csharp\n",
    "public decimal Solde\n",
    "{\n",
    "    get\n",
    "    {\n",
    "        decimal solde = 0;\n",
    "        foreach (var item in allTransactions)\n",
    "        {\n",
    "            solde += item.Montant;\n",
    "        }\n",
    "\n",
    "        return solde;\n",
    "    }\n",
    "}\n",
    "```"
   ]
  },
  {
   "cell_type": "code",
   "execution_count": null,
   "metadata": {
    "dotnet_interactive": {
     "language": "csharp"
    }
   },
   "outputs": [],
   "source": [
    "public class CompteBancaire\n",
    "{\n",
    "    // Proprietes\n",
    "    public string Numero { get; }\n",
    "    public string Proprietaire { get; set; }\n",
    "    public decimal Solde { get; }  // replacez cette ligne!\n",
    "    private static int compteNumeroBase = 1234567890;\n",
    "    private List<Transaction> allTransactions = new List<Transaction>();\n",
    "\n",
    "    // Constructeur\n",
    "    public CompteBancaire(string nom, decimal initialSolde)\n",
    "    {\n",
    "        this.Proprietaire = nom;\n",
    "        this.Solde = initialSolde;\n",
    "        this.Numero = compteNumeroBase.ToString();\n",
    "        compteNumeroBase++;\n",
    "    }\n",
    "\n",
    "    // Methodes\n",
    "    public void FaireDepot(decimal montant, DateTime date, string note)\n",
    "    {\n",
    "    }\n",
    "\n",
    "    public void FaireRetrait(decimal montant, DateTime date, string note)\n",
    "    {\n",
    "    }\n",
    "}"
   ]
  },
  {
   "attachments": {},
   "cell_type": "markdown",
   "metadata": {},
   "source": [
    "## #6: Correction d'erreurs\n",
    "\n",
    "Vous avez peut etre remarqué que `this.Solde` est souligné en rouge. Il s'agit d'une erreur que vous avez créee! Cela est dû au fait que lorsque vous voulez obtenir le Solde, on passe par un processus d'addition des transactions, vous ne pouvez pas juste dire que `Solde` est égal au solde initial. On ne va pas completement régler cela maintenant, mais vous pouvez au moins rendre le code utilisable.\n",
    "\n",
    "> Enlever la ligne `this.Solde = initialSolde`."
   ]
  },
  {
   "cell_type": "code",
   "execution_count": null,
   "metadata": {
    "dotnet_interactive": {
     "language": "csharp"
    }
   },
   "outputs": [],
   "source": [
    "public class CompteBancaire\n",
    "{\n",
    "    // Proprietes\n",
    "    public string Numero { get; }\n",
    "    public string Proprietaire { get; set; }\n",
    "    public decimal Solde\n",
    "    {\n",
    "        get\n",
    "        {\n",
    "            decimal solde = 0;\n",
    "            foreach (var item in allTransactions)\n",
    "            {\n",
    "                solde += item.Montant;\n",
    "            }\n",
    "\n",
    "            return solde;\n",
    "        }\n",
    "    }\n",
    "    private static int compteNumeroBase = 1234567890;\n",
    "    private List<Transaction> allTransactions = new List<Transaction>();\n",
    "\n",
    "\n",
    "    // Constructeur\n",
    "    public CompteBancaire(string nom, decimal initialSolde)\n",
    "    {\n",
    "        this.Proprietaire = nom;\n",
    "        this.Solde = initialSolde; // Supprimez cette ligne\n",
    "        this.Numero = compteNumeroBase.ToString();\n",
    "        compteNumeroBase++;\n",
    "    }\n",
    "\n",
    "    // Methodes\n",
    "    public void FaireDepot(decimal montant, DateTime date, string note)\n",
    "    {\n",
    "    }\n",
    "\n",
    "    public void FaireRetrait(decimal montant, DateTime date, string note)\n",
    "    {\n",
    "    }\n",
    "}"
   ]
  },
  {
   "attachments": {},
   "cell_type": "markdown",
   "metadata": {},
   "source": [
    "# Bilan: Mais où est passé le Solde Initial?\n",
    "\n",
    "Voici notre code final pour ce module. Nous avons un problème à ce stade! On n'a plus de Solde initial, et on démarre avec 0 Euros! Comme vous avez lié le Solde aux transactions, vous allez devoir être capable de faire des dépots et des retraits pour mettre de l'argent en banque. Vous allez apprendre cela dans le module suivant!\n",
    "\n",
    "> Testez le code des cellules ci-dessous.\n",
    ">\n",
    "> Essayez d'écrire vous même les méthodes de transaction avant le module suivant! Qu'est ce qui vous bloque? Qu'avez vous besoin d'apprendre?"
   ]
  },
  {
   "cell_type": "code",
   "execution_count": null,
   "metadata": {
    "dotnet_interactive": {
     "language": "csharp"
    }
   },
   "outputs": [],
   "source": [
    "public class Transaction\n",
    "{\n",
    "    // Proprietes (#2)\n",
    "    public decimal Montant { get; }\n",
    "    public DateTime Date { get; }\n",
    "    public string Notes\n",
    "    {\n",
    "        get;\n",
    "\n",
    "    }\n",
    "\n",
    "    // Constructeur (#3)\n",
    "    public Transaction(decimal montant, DateTime date, string note)\n",
    "    {\n",
    "        this.Montant = montant;\n",
    "        this.Date = date;\n",
    "        this.Notes = note;\n",
    "    }\n",
    "}"
   ]
  },
  {
   "cell_type": "code",
   "execution_count": null,
   "metadata": {
    "dotnet_interactive": {
     "language": "csharp"
    }
   },
   "outputs": [],
   "source": [
    "using System.Collections.Generic;\n",
    "\n",
    "public class CompteBancaire\n",
    "{\n",
    "    // Proprietes\n",
    "    public string Numero { get; }\n",
    "    public string Proprietaire { get; set; }\n",
    "    public decimal Solde  //(#5)\n",
    "    {\n",
    "        get\n",
    "\n",
    "        {\n",
    "            decimal solde = 0;\n",
    "            foreach (var item in allTransactions)\n",
    "            {\n",
    "                solde += item.Montant;\n",
    "            }\n",
    "\n",
    "            return solde;\n",
    "        }\n",
    "\n",
    "\n",
    "    }\n",
    "    private static int compteNumeroBase = 1234567890; //(#1)\n",
    "    private List<Transaction> allTransactions = new List<Transaction>(); //(#4)\n",
    "\n",
    "\n",
    "    // Constructeur\n",
    "    public CompteBancaire(string nom, decimal initialSolde)\n",
    "    {\n",
    "        this.Proprietaire = nom;\n",
    "        //(#6: Suppresion de \"this.Solde = initialSolde;\")\n",
    "        this.Numero = compteNumeroBase.ToString(); //(#1)\n",
    "        compteNumeroBase++; //(#1)\n",
    "\n",
    "    }\n",
    "\n",
    "    // Methodes\n",
    "    public void FaireDepot(decimal montant, DateTime date, string note)\n",
    "    {\n",
    "    }\n",
    "\n",
    "    public void FaireRetrait(decimal montant, DateTime date, string note)\n",
    "    {\n",
    "    }\n",
    "}"
   ]
  },
  {
   "cell_type": "code",
   "execution_count": null,
   "metadata": {
    "dotnet_interactive": {
     "language": "csharp"
    }
   },
   "outputs": [],
   "source": [
    "var account = new CompteBancaire(\"Diana\", 1000);\n",
    "Console.WriteLine($\"Le Compte {account.Numero} a été crée pour {account.Proprietaire} avec un solde de {account.Solde} Euros\");"
   ]
  }
 ],
 "metadata": {
  "kernelspec": {
   "display_name": ".NET (C#)",
   "language": "C#",
   "name": ".net-csharp"
  },
  "language_info": {
   "name": "polyglot-notebook"
  },
  "polyglot_notebook": {
   "kernelInfo": {
    "defaultKernelName": "csharp",
    "items": [
     {
      "aliases": [],
      "name": ".NET"
     },
     {
      "aliases": [
       "C#",
       "c#"
      ],
      "languageName": "C#",
      "name": "csharp"
     },
     {
      "aliases": [
       "F#",
       "f#"
      ],
      "languageName": "F#",
      "name": "fsharp"
     },
     {
      "aliases": [],
      "languageName": "HTML",
      "name": "html"
     },
     {
      "aliases": [
       "js"
      ],
      "languageName": "JavaScript",
      "name": "javascript"
     },
     {
      "aliases": [],
      "languageName": "KQL",
      "name": "kql"
     },
     {
      "aliases": [],
      "languageName": "Mermaid",
      "name": "mermaid"
     },
     {
      "aliases": [
       "powershell"
      ],
      "languageName": "PowerShell",
      "name": "pwsh"
     },
     {
      "aliases": [],
      "languageName": "SQL",
      "name": "sql"
     },
     {
      "aliases": [],
      "name": "value"
     },
     {
      "aliases": [
       "frontend"
      ],
      "name": "vscode"
     },
     {
      "aliases": [],
      "name": "webview"
     }
    ]
   }
  }
 },
 "nbformat": 4,
 "nbformat_minor": 2
}
