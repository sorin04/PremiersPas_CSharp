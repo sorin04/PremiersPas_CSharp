{
 "cells": [
  {
   "attachments": {},
   "cell_type": "markdown",
   "metadata": {},
   "source": [
    "# Objets et Classes\n",
    "\n"
   ]
  },
  {
   "attachments": {},
   "cell_type": "markdown",
   "metadata": {},
   "source": [
    "## Programmation Orientée Objet\n",
    "\n",
    "Les Objets sont une façon de répresenter le monde réel dans du code. Si vous réfléchissez au concept de `Personne`, elles peuvent avoir un nom, une adresse, une taille, ... et toutes ces `propriétés` changent d'une personne à l'autre. La `P`rogrammation `O`rientée `O`bjet permet de regrouper ce type d'information, ainsi vous pouvez facilement fabriquer une personne avec tous ces détails. Il y a beaucoup de choses que l'on peut faire avec des objets, mais nous allons commencer avec les bases."
   ]
  },
  {
   "attachments": {},
   "cell_type": "markdown",
   "metadata": {},
   "source": [
    "## Gestion de compte\n",
    "\n",
    "Dans les prochains modules, nous allons faire un objet Compte Bancaire avec ces propriétés:\n",
    "\n",
    "> Il possède un nombre à dix chiffres qui l'identifie de façon unique.\n",
    ">\n",
    "> Il a une chaine de caractère pour stocker le nom du propriétaire.\n",
    ">\n",
    "> On peut connaitre son solde.\n",
    ">\n",
    "> Il accepte des dépôts.\n",
    ">\n",
    "> Il accepte des retraits.\n",
    ">\n",
    "> Le solde initial doit être positif.\n",
    ">\n",
    "> Les retraits ne doivent pas aboutir à un solde négatif.\n",
    ">\n",
    "\n",
    "On peut catégoriser ces buts de la façon suivante:\n",
    "\n",
    "- **Propriétes**: details à propos de l'objet (combien d'argent contient il, le nom du compte).\n",
    "- **Actions**: les choses que l'objet peut faire (accepter des dépots et des retraits).\n",
    "- **Règles**: directives que l'objet doit suivre pour ne pas faire de choses impossibles (être sur que le solde ne soit jamais négatif)."
   ]
  },
  {
   "attachments": {},
   "cell_type": "markdown",
   "metadata": {},
   "source": [
    "## Faites le vous même\n",
    "\n",
    "Ci dessous, nous avons une définition de `CompteBancaire` vide que vous allez remplir. On va ajouter les éléments un par un."
   ]
  },
  {
   "attachments": {},
   "cell_type": "markdown",
   "metadata": {},
   "source": [
    "## #1: Propriétés\n",
    "\n",
    "Les **Propriétés** sont des éléments que chaque objet contient. On verra que l'on parle aussi de **champ**, mais il y a une différence subtile.  \n",
    "`get` et `set`: Parfois, on souhaite que l'utilisateur puisse lire une valeur sans pouvoir la modifier. D'autres fois on veut que l'utilisateur puisse la modifier. `get` vous permet de lire un élément, `set` vous permet de le modifier. (On est d'accord?)\n",
    "\n",
    "> Copiez le code ci-dessous et copiez le dans `CompteBancaire` sous `//Proprietes`\n",
    "\n",
    "```csharp\n",
    "    public string Numero { get; }\n",
    "    public string Proprietaire { get; set; }\n",
    "    public decimal Solde { get; }\n",
    "```"
   ]
  },
  {
   "cell_type": "code",
   "execution_count": null,
   "metadata": {
    "dotnet_interactive": {
     "language": "csharp"
    }
   },
   "outputs": [],
   "source": [
    "public class CompteBancaire\n",
    "{\n",
    "    // Proprietes (Copiez ci dessous)\n",
    "\n",
    "    // Constructeur\n",
    "\n",
    "    // Methodes\n",
    "}"
   ]
  },
  {
   "attachments": {},
   "cell_type": "markdown",
   "metadata": {},
   "source": [
    "## #2: Constructeur\n",
    "\n",
    "Cette méthode est appelée lors de la création d'un objet.  \n",
    "Définir une classe `CompteBancaire`, comme on est entrain de faire, c'est comme définir un modèle pour tous les comptes bancaires: Ce n'est **pas** un compte bancaire.  \n",
    "Le constructeur c'est qui va fabriquer un objet particulier, avec tous les détails qui le caractérisent.  \n",
    "Vous donnez au constructeur les détails que vous voulez pour un compte bancaire particulier, et il assigne ces détails aux propriétés du nouvel objet.\n",
    "\n",
    "`this` est un choix de style de codage. Cela indique **explicitement** que la variable \"Proprietaire\" est un champ ou une propriété de l'objet en cours. Dans le futur, on manipulera deux objets, et l'utilisation de `this` permettra de préciser ce que l'on fait. Vous pouvez aussi écrire `Proprietaire` au lieu de `this.Proprietaire` si vous le souhaitez!\n",
    "\n",
    "On prend le contenu des variables `nom` et `initialSolde` et on crée un compte banciare qui contient ses valeurs.\n",
    "\n",
    "> Copiez et collez the code du constructeur dans le `CompteBancaire` suivant, dessous `//Constructeur`\n",
    "\n",
    "```csharp\n",
    "public CompteBancaire(string nom, decimal initialSolde)\n",
    "{\n",
    "    this.Proprietaire = nom;\n",
    "    this.Solde = initialSolde;\n",
    "}\n",
    "```"
   ]
  },
  {
   "cell_type": "code",
   "execution_count": null,
   "metadata": {
    "dotnet_interactive": {
     "language": "csharp"
    }
   },
   "outputs": [],
   "source": [
    "public class CompteBancaire\n",
    "{\n",
    "    // Proprietes\n",
    "    public string Numero { get; }\n",
    "    public string Proprietaire { get; set; }\n",
    "    public decimal Solde { get; }\n",
    "\n",
    "    // Constructeur (Collez ici!)\n",
    "\n",
    "    // Methodes\n",
    "}"
   ]
  },
  {
   "attachments": {},
   "cell_type": "markdown",
   "metadata": {},
   "source": [
    "## #3: Fabriquer un objet\n",
    "\n",
    "Maintenant que l'on a écrit le code, voyons ce qui se passe quand on crée un `CompteBancaire`!\n",
    "\n",
    "> Executez les deux blocs de code pour créer un compte bancaire spécifique. Est ce que vous attendiez?\n",
    ">\n",
    "> Modifier le code pour faire en sorte que cela soit le vôtre. Combien d'Euros voulez vous dans votre compte bancaire?"
   ]
  },
  {
   "cell_type": "code",
   "execution_count": 1,
   "metadata": {
    "dotnet_interactive": {
     "language": "csharp"
    }
   },
   "outputs": [],
   "source": [
    "public class CompteBancaire\n",
    "{\n",
    "    // Proprietes\n",
    "    public string Numero { get; }\n",
    "    public string Proprietaire { get; set; }\n",
    "    public decimal Solde { get; }\n",
    "\n",
    "    // Constructeur\n",
    "    public CompteBancaire(string nom, decimal initialSolde)\n",
    "    {\n",
    "        this.Proprietaire = nom;\n",
    "        this.Solde = initialSolde;\n",
    "    }\n",
    "    // Methodes\n",
    "}"
   ]
  },
  {
   "cell_type": "code",
   "execution_count": null,
   "metadata": {
    "dotnet_interactive": {
     "language": "csharp"
    }
   },
   "outputs": [],
   "source": [
    "var account = new CompteBancaire(\"Diana\", 1000);\n",
    "Console.WriteLine($\"Le Compte {account.Numero} a été crée pour {account.Proprietaire} avec un solde de {account.Solde} Euros\");"
   ]
  },
  {
   "attachments": {},
   "cell_type": "markdown",
   "metadata": {},
   "source": [
    "## Que se passe t'il avec `account.Numero`?\n",
    "\n",
    "Comme vous avez pu le constater, le code n'affiche rien pour `account.Numero`. C'est normal! C'est parce que l'on a rien mis pour l'instant. Vous verrez cela dans le prochain module."
   ]
  },
  {
   "attachments": {},
   "cell_type": "markdown",
   "metadata": {},
   "source": [
    "## #4: Methodes\n",
    "\n",
    "Les **Méthodes** (on parle aussi de **Fonctions Membres**) sont là pour faire des actions avec un objet ou pour modifier les variables d'un objet. Ces deux méthodes vont permettre de faire un dépôt (Ajouter de l'argent) et un retrait (retirer de l'argent). On ajoutera le contenu des ces méthodes plus tard, mais pour l'instant on veut ajouter une version vide.\n",
    "\n",
    "> Copiez le code suivant et ajoutez le à `CompteBancaire` sous `//Methodes`\n",
    "\n",
    "```csharp\n",
    "public void FaireDepot(decimal montant, DateTime date, string note)\n",
    "{\n",
    "}\n",
    "\n",
    "public void FaireRetrait(decimal montant, DateTime date, string note)\n",
    "{\n",
    "}\n",
    "```"
   ]
  },
  {
   "cell_type": "code",
   "execution_count": null,
   "metadata": {
    "dotnet_interactive": {
     "language": "csharp"
    }
   },
   "outputs": [],
   "source": [
    "public class CompteBancaire\n",
    "{\n",
    "    // Proprietes\n",
    "    public string Numero { get; }\n",
    "    public string Proprietaire { get; set; }\n",
    "    public decimal Solde { get; }\n",
    "\n",
    "    // Constructeur\n",
    "    public CompteBancaire(string nom, decimal initialSolde)\n",
    "    {\n",
    "        this.Proprietaire = nom;\n",
    "        this.Solde = initialSolde;\n",
    "    }\n",
    "\n",
    "    // Methodes (coller ici!)\n",
    "}"
   ]
  },
  {
   "attachments": {},
   "cell_type": "markdown",
   "metadata": {},
   "source": [
    "# Bilan\n",
    "\n",
    "Voici une version de `CompteBancaire` avec laquelle on termine ce module. On va ajouter des éléments par la suite, mais pourquoi ne pas essayer par vous même, juste pour voir ce qui peut vous manquer?\n",
    "\n",
    "> Pouvez vous ajouter un code à 10 Chiffres? De quoi a besoin votre objet pour être sur qu'il soit unique?\n",
    ">\n",
    "> Essayez d'ajouter le code de la méthode de dépot! Que doit elle faire?\n",
    ">\n",
    "> Comment faire pour vérifier que le solde initial est positif?"
   ]
  },
  {
   "cell_type": "code",
   "execution_count": null,
   "metadata": {
    "dotnet_interactive": {
     "language": "csharp"
    }
   },
   "outputs": [],
   "source": [
    "public class CompteBancaire\n",
    "{\n",
    "    // Variables (#1)\n",
    "    public string Numero { get; }\n",
    "    public string Proprietaire { get; set; }\n",
    "    public decimal Solde { get; }\n",
    "\n",
    "    // Constructeur (#2)\n",
    "    public CompteBancaire(string nom, decimal initialSolde)\n",
    "    {\n",
    "        this.Proprietaire = nom;\n",
    "        this.Solde = initialSolde;\n",
    "    }\n",
    "\n",
    "    // Methodes (#4)\n",
    "    public void FaireDepot(decimal montant, DateTime date, string note)\n",
    "    {\n",
    "    }\n",
    "\n",
    "    public void FaireRetrait(decimal montant, DateTime date, string note)\n",
    "    {\n",
    "    }\n",
    "}"
   ]
  },
  {
   "cell_type": "code",
   "execution_count": null,
   "metadata": {
    "dotnet_interactive": {
     "language": "csharp"
    }
   },
   "outputs": [],
   "source": [
    "//Fabriquer un objet (#3)\n",
    "var account = new CompteBancaire(\"Diana\", 1000);\n",
    "Console.WriteLine($\"Le Compte {account.Numero} a été crée pour {account.Proprietaire} avec un solde de {account.Solde} Euros\");"
   ]
  }
 ],
 "metadata": {
  "kernelspec": {
   "display_name": ".NET (C#)",
   "language": "C#",
   "name": ".net-csharp"
  },
  "language_info": {
   "name": "polyglot-notebook"
  },
  "polyglot_notebook": {
   "kernelInfo": {
    "defaultKernelName": "csharp",
    "items": [
     {
      "aliases": [],
      "name": ".NET"
     },
     {
      "aliases": [
       "C#",
       "c#"
      ],
      "languageName": "C#",
      "name": "csharp"
     },
     {
      "aliases": [
       "F#",
       "f#"
      ],
      "languageName": "F#",
      "name": "fsharp"
     },
     {
      "aliases": [],
      "languageName": "HTML",
      "name": "html"
     },
     {
      "aliases": [
       "js"
      ],
      "languageName": "JavaScript",
      "name": "javascript"
     },
     {
      "aliases": [],
      "languageName": "KQL",
      "name": "kql"
     },
     {
      "aliases": [],
      "languageName": "Mermaid",
      "name": "mermaid"
     },
     {
      "aliases": [
       "powershell"
      ],
      "languageName": "PowerShell",
      "name": "pwsh"
     },
     {
      "aliases": [],
      "languageName": "SQL",
      "name": "sql"
     },
     {
      "aliases": [],
      "name": "value"
     },
     {
      "aliases": [
       "frontend"
      ],
      "name": "vscode"
     },
     {
      "aliases": [],
      "name": "webview"
     }
    ]
   }
  }
 },
 "nbformat": 4,
 "nbformat_minor": 2
}
