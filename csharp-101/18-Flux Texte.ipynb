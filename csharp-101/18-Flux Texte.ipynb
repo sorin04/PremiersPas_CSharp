{
 "cells": [
  {
   "attachments": {},
   "cell_type": "markdown",
   "metadata": {},
   "source": [
    "# Flux Texte\n",
    "\n",
    "Pour pouvoir gérer le contenu d'un flux sous forme de texte, on va pouvoir utiliser des classes `outils`, qui vont exploiter le flux d'octets pour nous.  \n",
    "\n",
    "La classe `StreamWriter` permet d'écrire directement du texte dans un flux.   \n",
    "La classe `StreamReader` permet de lire du texte depuis un flux.\n",
    "\n",
    "\n",
    "On peut utiliser celles-ci de plusieurs façons.\n",
    "\n",
    "## Accès direct\n",
    "\n",
    "> Dans l'exemple ci-dessous, en precisant un nom de fichier, le flux sera crée par la classe `StreamWriter`.\n",
    " "
   ]
  },
  {
   "cell_type": "code",
   "execution_count": null,
   "metadata": {
    "dotnet_interactive": {
     "language": "csharp"
    },
    "polyglot_notebook": {
     "kernelName": "csharp"
    }
   },
   "outputs": [],
   "source": [
    "using System.IO;\n",
    "\n",
    "string sourceDirectory = @\"C:\\Temp\";\n",
    "\n",
    "if (!Directory.Exists( sourceDirectory ) )\n",
    "{\n",
    "    Directory.CreateDirectory( sourceDirectory);\n",
    "}\n",
    "\n",
    "var listeDeFichiers = Directory.EnumerateFiles(sourceDirectory); \n",
    "// var listeDeFichiers = Directory.EnumerateFiles(sourceDirectory, \"*.txt\"); \n",
    "// Ecrivons la liste des fichiers dans un fichier, sur votre bureau\n",
    "string bureau = Environment.GetFolderPath(Environment.SpecialFolder.Desktop);\n",
    "Console.WriteLine( $\"Chemin du bureau : {bureau}\");\n",
    "string fichier = Path.Combine( bureau, \"listeDeFichiers.txt\" );\n",
    "Console.WriteLine( $\"Fichier de sauvegarde : {fichier}\");\n",
    "using (StreamWriter sw = new StreamWriter(fichier))\n",
    "{\n",
    "    foreach (string currentFile in listeDeFichiers)\n",
    "    {\n",
    "        // On extrait le nom démarrant après la longueur de la chaine qui indique le chemin\n",
    "        string fileName = currentFile.Substring(sourceDirectory.Length + 1);\n",
    "        sw.WriteLine( fileName );\n",
    "    }\n",
    "}"
   ]
  },
  {
   "attachments": {},
   "cell_type": "markdown",
   "metadata": {},
   "source": [
    "## Accès par le flux\n",
    "\n",
    "> Dans l'exemple ci-dessous, on passe par le flux. Ici c'est un flux fichiers, mais cela pourrait être un autre type de flux."
   ]
  },
  {
   "cell_type": "code",
   "execution_count": null,
   "metadata": {
    "dotnet_interactive": {
     "language": "csharp"
    },
    "polyglot_notebook": {
     "kernelName": "csharp"
    }
   },
   "outputs": [],
   "source": [
    "using System.IO;\n",
    "\n",
    "string sourceDirectory = @\"C:\\Temp\";\n",
    "\n",
    "if (!Directory.Exists( sourceDirectory ) )\n",
    "{\n",
    "    Directory.CreateDirectory( sourceDirectory);\n",
    "}\n",
    "\n",
    "var listeDeFichiers = Directory.EnumerateFiles(sourceDirectory); \n",
    "// var listeDeFichiers = Directory.EnumerateFiles(sourceDirectory, \"*.txt\"); \n",
    "// Ecrivons la liste des fichiers dans un fichier, sur votre bureau\n",
    "string bureau = Environment.GetFolderPath(Environment.SpecialFolder.Desktop);\n",
    "Console.WriteLine( $\"Chemin du bureau : {bureau}\");\n",
    "string fichier = Path.Combine( bureau, \"listeDeFichiers2.txt\" );\n",
    "Console.WriteLine( $\"Fichier de sauvegarde : {fichier}\");\n",
    "using( FileStream fs = new FileStream(fichier, FileMode.OpenOrCreate) )\n",
    "{\n",
    "    using (StreamWriter sw = new StreamWriter(fs))\n",
    "    {\n",
    "        foreach (string currentFile in listeDeFichiers)\n",
    "        {\n",
    "            // On extrait le nom démarrant après la longueur de la chaine qui indique le chemin\n",
    "            string fileName = currentFile.Substring(sourceDirectory.Length + 1);\n",
    "            sw.WriteLine( fileName );\n",
    "        }\n",
    "    }\n",
    "}"
   ]
  },
  {
   "attachments": {},
   "cell_type": "markdown",
   "metadata": {},
   "source": [
    "# Terrain de jeu: A vous de jouer\n",
    "\n",
    "Réaliser un programme qui peut lire un fichier texte, et le reécrire à l'envers, ligne par ligne. Vous devrez utiliser la classe `StreamWriter` et la classe `StreamReader`.  \n",
    "> 1. Le nouveau fichier aura le nom du fichier d'orgine, mais l'envers. (Y compris l'extension)\n",
    "> 2. Le contenu du nouveau fichier sera le même que celui d'origine, mais à l'envers... ligne par ligne.\n",
    "> 3. Afficher le contenu du nouveau fichier.\n",
    "> 4. Une fois la copie réalisée, écrivez le code permettant de vérifier que les fichiers sont effectivement \"symétriques\".\n"
   ]
  },
  {
   "cell_type": "code",
   "execution_count": null,
   "metadata": {
    "dotnet_interactive": {
     "language": "csharp"
    }
   },
   "outputs": [],
   "source": [
    "Console.WriteLine(\"Playground\");"
   ]
  }
 ],
 "metadata": {
  "kernelspec": {
   "display_name": ".NET (C#)",
   "language": "C#",
   "name": ".net-csharp"
  },
  "language_info": {
   "name": "polyglot-notebook"
  },
  "polyglot_notebook": {
   "kernelInfo": {
    "defaultKernelName": "csharp",
    "items": [
     {
      "aliases": [],
      "name": ".NET"
     },
     {
      "aliases": [
       "C#",
       "c#"
      ],
      "languageName": "C#",
      "name": "csharp"
     },
     {
      "aliases": [
       "F#",
       "f#"
      ],
      "languageName": "F#",
      "name": "fsharp"
     },
     {
      "aliases": [],
      "languageName": "HTML",
      "name": "html"
     },
     {
      "aliases": [
       "js"
      ],
      "languageName": "JavaScript",
      "name": "javascript"
     },
     {
      "aliases": [],
      "languageName": "KQL",
      "name": "kql"
     },
     {
      "aliases": [],
      "languageName": "Mermaid",
      "name": "mermaid"
     },
     {
      "aliases": [
       "powershell"
      ],
      "languageName": "PowerShell",
      "name": "pwsh"
     },
     {
      "aliases": [],
      "languageName": "SQL",
      "name": "sql"
     },
     {
      "aliases": [],
      "name": "value"
     },
     {
      "aliases": [
       "frontend"
      ],
      "name": "vscode"
     },
     {
      "aliases": [],
      "name": "webview"
     }
    ]
   }
  }
 },
 "nbformat": 4,
 "nbformat_minor": 2
}
