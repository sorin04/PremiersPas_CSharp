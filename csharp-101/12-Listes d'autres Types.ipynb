{
 "cells": [
  {
   "attachments": {},
   "cell_type": "markdown",
   "metadata": {},
   "source": [
    "# Listes d'autres Types\n",
    "\n",
    "\n",
    "## Fibonacci\n",
    "\n",
    "Fibonacci une séquence de nombres très intéréssante. Elle ajoute les deux derniers nombres pour faire le suivant. Vous démarrez avec 1 et 1.  \n",
    "1 + 1 = 2  (1, 1, 2)  \n",
    "1 + 2 = 3  (1, 1, 2, 3)  \n",
    "2 + 3 = 5  (1, 1, 2, 3, 5)  \n",
    "3 + 5 = 8  (1, 1, 2, 3, 5, 8)  \n",
    "et ainsi de suite. Il y a beaucoup de choses dans la nature qui suivent cette séquence, et vous devirez vous y intéresser!\n",
    "\n",
    "> Commençons avec les premiers nombres: Voici une liste avec juste 1, 1. Lancez ce code et voyons ce qu'il se passe."
   ]
  },
  {
   "cell_type": "code",
   "execution_count": null,
   "metadata": {
    "dotnet_interactive": {
     "language": "csharp"
    }
   },
   "outputs": [],
   "source": [
    "var fibonacciNumbers = new List<int> {1, 1};\n",
    "\n",
    "foreach (var item in fibonacciNumbers)\n",
    "    Console.WriteLine(item);"
   ]
  },
  {
   "attachments": {},
   "cell_type": "markdown",
   "metadata": {},
   "source": [
    "Bon, on ne veut pas que 1,1 dans cette liste!  \n",
    "On en veut un plus grand nombre de cette séquence. Dans le code suivant, on prend les deux derniers éléments, on les additionne, puis on ajoute le résultat à la liste.\n",
    "\n",
    "> Essayez."
   ]
  },
  {
   "cell_type": "code",
   "execution_count": null,
   "metadata": {
    "dotnet_interactive": {
     "language": "csharp"
    }
   },
   "outputs": [],
   "source": [
    "var fibonacciNumbers = new List<int> {1, 1}; // Commençons la liste avec les éléments de base\n",
    "\n",
    "var previous = fibonacciNumbers[fibonacciNumbers.Count - 1]; // On prend le dernier\n",
    "var previous2 = fibonacciNumbers[fibonacciNumbers.Count - 2]; // Et l'avant dernier\n",
    "\n",
    "fibonacciNumbers.Add(previous + previous2); // Additionner les deux nombres et ajouter la somme à la fin de la liste\n",
    "\n",
    "foreach (var item in fibonacciNumbers) // Afficher la liste\n",
    "    Console.WriteLine(item);"
   ]
  },
  {
   "attachments": {},
   "cell_type": "markdown",
   "metadata": {},
   "source": [
    "## Count -1\n",
    "\n",
    "Pourquoi est que l'on a besoin de `fibonacciNumbers.Count -1` pour avoir le dernier nombre de la liste? Et bien, `Count` vous donne le nombre d'éléments dans la liste. Mais, l'index des éléments commence à zéro. Donc, si on a un seul élément dans la liste, `Count` vaut un, mais l'index de l'élément est 0. L'index et le nombre total d'éléments diffèrent de un."
   ]
  },
  {
   "attachments": {},
   "cell_type": "markdown",
   "metadata": {},
   "source": [
    "# Défi: Fibonacci jusqu'au 20ème nombre\n",
    "\n",
    "On vous a donné les éléments et du code pour la suite de Fibonacci. Pouvez vous faire une liste avec les 20 premiers éléments de cette suite?\n",
    "\n",
    "> Ecrivez celà et affichez la liste."
   ]
  },
  {
   "cell_type": "code",
   "execution_count": null,
   "metadata": {
    "dotnet_interactive": {
     "language": "csharp"
    }
   },
   "outputs": [],
   "source": [
    "Console.WriteLine(\"Challenge\");"
   ]
  },
  {
   "attachments": {},
   "cell_type": "markdown",
   "metadata": {},
   "source": [
    "## Trucs et astuces\n",
    "\n",
    "- Le dernier nombre doit être 6765.\n",
    "- Pouvez vous faire une boucle `for` ? Une boucle `foreach` ? Une boucle `while` ? Quel est le type de boucle que vous préférez et lequel vous semble le plus pratique?\n",
    "- Vous y etes presque, mais il vous manque un nombre? C'est assez classique! Rappelez vous que `>` et `>=` se ressemblent, mais ils se terminent à 1 l'un de l'autre. C'est peut-être là qu'il faut regarder?\n",
    "- Rappelez vous que l'on commence avec deux éléments dans la liste.\n",
    "- Bloqué? Regardez la [vidéo C# 101](https://www.youtube.com/watch?v=oIQdb93xewE&list=PLdo4fOcmZ0oVxKLQCHpiUWun7vlJJvUiN&index=14) pour cet exercice. Mettez la pose quand vous pensez avoir une idée, et essayez avant de voir la suite."
   ]
  }
 ],
 "metadata": {
  "kernelspec": {
   "display_name": ".NET (C#)",
   "language": "C#",
   "name": ".net-csharp"
  },
  "language_info": {
   "name": "polyglot-notebook"
  },
  "polyglot_notebook": {
   "kernelInfo": {
    "defaultKernelName": "csharp",
    "items": [
     {
      "aliases": [],
      "name": ".NET"
     },
     {
      "aliases": [
       "C#",
       "c#"
      ],
      "languageName": "C#",
      "name": "csharp"
     },
     {
      "aliases": [
       "F#",
       "f#"
      ],
      "languageName": "F#",
      "name": "fsharp"
     },
     {
      "aliases": [],
      "languageName": "HTML",
      "name": "html"
     },
     {
      "aliases": [],
      "languageName": "KQL",
      "name": "kql"
     },
     {
      "aliases": [],
      "languageName": "Mermaid",
      "name": "mermaid"
     },
     {
      "aliases": [
       "powershell"
      ],
      "languageName": "PowerShell",
      "name": "pwsh"
     },
     {
      "aliases": [],
      "languageName": "SQL",
      "name": "sql"
     },
     {
      "aliases": [],
      "name": "value"
     },
     {
      "aliases": [
       "frontend"
      ],
      "name": "vscode"
     }
    ]
   }
  }
 },
 "nbformat": 4,
 "nbformat_minor": 2
}
