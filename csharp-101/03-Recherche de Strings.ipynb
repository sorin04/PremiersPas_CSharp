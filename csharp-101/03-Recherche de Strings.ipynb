{
 "cells": [
  {
   "attachments": {},
   "cell_type": "markdown",
   "metadata": {},
   "source": [
    "# Recherche de Strings\n"
   ]
  },
  {
   "attachments": {},
   "cell_type": "markdown",
   "metadata": {},
   "source": [
    "## Contains\n",
    "\n",
    "Est ce que votre chaine contient une autre chaine ? Vous pouvez utiliser `Contains` pour le savoir!\n",
    "La méthode `Contains` retourne un *boolean*. C'est un type représenté par le mot-clé `bool` qui peut contenir deux valeurs `true` ou `false`. Dans ce cas, la méthode retourne `true` quand la chaine recherchée est trouvée, et `false` quand elle n'est pas trouvée.\n",
    "> Lancez le code ci-dessous.\n",
    ">\n",
    "> Qu'est ce que l'on pourrait y chercher d'autre ?\n",
    ">\n",
    "> Est ce que la casse est importante?\n",
    ">\n",
    "> Pouvez vous stocker la valeur de retour de la méthode `Contains` > Rappelez vous que le type est `bool`."
   ]
  },
  {
   "cell_type": "code",
   "execution_count": null,
   "metadata": {
    "dotnet_interactive": {
     "language": "csharp"
    }
   },
   "outputs": [],
   "source": [
    "string songLyrics = \"You say goodbye, and I say hello\";\n",
    "Console.WriteLine(songLyrics.Contains(\"goodbye\"));\n",
    "Console.WriteLine(songLyrics.Contains(\"greetings\"));"
   ]
  },
  {
   "attachments": {},
   "cell_type": "markdown",
   "metadata": {},
   "source": [
    "## StartsWith et EndsWith\n",
    "\n",
    "`StartsWith` et `EndsWith` sont des méthodes similaires à `Contains`, mais un peu plus spécifiques.   \n",
    "Elles vous disent si une chaine commence ou se termine par la chaine que vous testez. Elles s'utilisent de la même façon que `Contains`, c'est à dire : `bigstring.StartsWith(substring)`\n",
    "> A vous !\n",
    "> Dans le code suivant, essayez de chercher dans la ligne si elle commence par \"you\" ou \"I\".\n",
    "> Puis, vérifiez si elle se termine par \"hello\" ou \"goodbye\"."
   ]
  },
  {
   "cell_type": "code",
   "execution_count": null,
   "metadata": {
    "dotnet_interactive": {
     "language": "csharp"
    }
   },
   "outputs": [],
   "source": [
    "string songLyrics = \"You say goodbye, and I say hello\";"
   ]
  },
  {
   "attachments": {},
   "cell_type": "markdown",
   "metadata": {},
   "source": [
    "# Playground\n",
    "\n",
    "On va tester ce que l'on a appris! Voilà quelques idées:\n",
    "> Combien de lignes contiennent hello?   \n",
    "> Quelle ligne commence par \"You\"?   \n",
    "> Quelle ligne se termine par \"no\"?   \n",
    "> En pensant au module précédent, pouvez vous modifier la casse de certaines lignes en les mettant en majuscule ou en minuscule?   \n",
    "> Si on change la casse, est ce que modifie les résultats avec `Contains`?   \n",
    "> Essayez de manipuler la méthode `IndexOf` avec un exemple tel que `line1.IndexOf(\"yes\")`."
   ]
  },
  {
   "cell_type": "code",
   "execution_count": null,
   "metadata": {
    "dotnet_interactive": {
     "language": "csharp"
    }
   },
   "outputs": [],
   "source": [
    "Console.WriteLine(\"Playground\");\n",
    "String line1 = \"You say yes, I say no\";\n",
    "String line2 = \"You say stop and I say go, go, go\";\n",
    "String line3 = \"Oh, no\";\n",
    "String line4 = \"You say goodbye and I say hello\";\n",
    "String line5 = \"Hello, hello\";\n",
    "String line6 = \"I don't know why you say goodbye, I say hello\";"
   ]
  }
 ],
 "metadata": {
  "kernelspec": {
   "display_name": ".NET (C#)",
   "language": "C#",
   "name": ".net-csharp"
  },
  "language_info": {
   "name": "polyglot-notebook"
  },
  "polyglot_notebook": {
   "kernelInfo": {
    "defaultKernelName": "csharp",
    "items": [
     {
      "aliases": [],
      "name": ".NET"
     },
     {
      "aliases": [
       "C#",
       "c#"
      ],
      "languageName": "C#",
      "name": "csharp"
     },
     {
      "aliases": [
       "F#",
       "f#"
      ],
      "languageName": "F#",
      "name": "fsharp"
     },
     {
      "aliases": [],
      "languageName": "HTML",
      "name": "html"
     },
     {
      "aliases": [
       "js"
      ],
      "languageName": "JavaScript",
      "name": "javascript"
     },
     {
      "aliases": [],
      "languageName": "KQL",
      "name": "kql"
     },
     {
      "aliases": [],
      "languageName": "Mermaid",
      "name": "mermaid"
     },
     {
      "aliases": [
       "powershell"
      ],
      "languageName": "PowerShell",
      "name": "pwsh"
     },
     {
      "aliases": [],
      "languageName": "SQL",
      "name": "sql"
     },
     {
      "aliases": [],
      "name": "value"
     },
     {
      "aliases": [
       "frontend"
      ],
      "name": "vscode"
     },
     {
      "aliases": [],
      "name": "webview"
     }
    ]
   }
  }
 },
 "nbformat": 4,
 "nbformat_minor": 2
}
