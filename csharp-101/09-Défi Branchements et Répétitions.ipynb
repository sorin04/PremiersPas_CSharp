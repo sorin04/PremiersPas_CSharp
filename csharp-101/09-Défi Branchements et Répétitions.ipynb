{
 "cells": [
  {
   "attachments": {},
   "cell_type": "markdown",
   "metadata": {},
   "source": [
    "# Défi: Combinez Branchements et Répétitions\n",
    "\n",
    "\n",
    "Voilà le défi:\n",
    ">\n",
    "> Ecrivez un programme en C# pour trouver la somme de tous les entiers de 1 à 20 qui sont divisibles par 3.\n",
    ">\n"
   ]
  },
  {
   "cell_type": "code",
   "execution_count": null,
   "metadata": {
    "dotnet_interactive": {
     "language": "csharp"
    }
   },
   "outputs": [],
   "source": [
    "Console.WriteLine(\"Défi\");"
   ]
  },
  {
   "attachments": {},
   "cell_type": "markdown",
   "metadata": {},
   "source": [
    "## Trucs et Astuces\n",
    "\n",
    "- L'operateur `%` vous donne le reste de l'operation de division.  \n",
    "- L'instruction `if` permet d'évaluer une condition pour voir si un nombre doit faire partie de la somme.  \n",
    "- La boucle `for` peut vous aider à répéter une série d'etapes pour tous les nombres de 1 à 20.  \n",
    "- Vous n'avez pas le bon résultat? Faites afficher vos variables, pour voir si elles changent correctement.  \n",
    "\n",
    "## Vérifiez votre réponse\n",
    "\n",
    "Vous devriez trouver 63.\n",
    "\n",
    "## Besoin d'Aide\n",
    "\n",
    "Bloqué?\n",
    "\n",
    "- Regardez la [video](https://www.youtube.com/watch?v=qK7tUpaOXi8&list=PLdo4fOcmZ0oVxKLQCHpiUWun7vlJJvUiN&index=11) pour voir quelqu'un résoudre cet exercice. Quand vous vous sentez prêt, mettez en pause et terminez vous même!\n",
    "- Vérifiez votre [réponse](https://github.com/dotnet/samples/blob/main/csharp/branches-quickstart/Program.cs#L87-L95)."
   ]
  }
 ],
 "metadata": {
  "kernelspec": {
   "display_name": ".NET (C#)",
   "language": "C#",
   "name": ".net-csharp"
  },
  "language_info": {
   "name": "polyglot-notebook"
  },
  "polyglot_notebook": {
   "kernelInfo": {
    "defaultKernelName": "csharp",
    "items": [
     {
      "aliases": [],
      "name": ".NET"
     },
     {
      "aliases": [
       "C#",
       "c#"
      ],
      "languageName": "C#",
      "name": "csharp"
     },
     {
      "aliases": [
       "F#",
       "f#"
      ],
      "languageName": "F#",
      "name": "fsharp"
     },
     {
      "aliases": [],
      "languageName": "HTML",
      "name": "html"
     },
     {
      "aliases": [],
      "languageName": "KQL",
      "name": "kql"
     },
     {
      "aliases": [],
      "languageName": "Mermaid",
      "name": "mermaid"
     },
     {
      "aliases": [
       "powershell"
      ],
      "languageName": "PowerShell",
      "name": "pwsh"
     },
     {
      "aliases": [],
      "languageName": "SQL",
      "name": "sql"
     },
     {
      "aliases": [],
      "name": "value"
     },
     {
      "aliases": [
       "frontend"
      ],
      "name": "vscode"
     }
    ]
   }
  }
 },
 "nbformat": 4,
 "nbformat_minor": 2
}
