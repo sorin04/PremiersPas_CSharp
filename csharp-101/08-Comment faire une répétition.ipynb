{
 "cells": [
  {
   "attachments": {},
   "cell_type": "markdown",
   "metadata": {},
   "source": [
    "# Comment faire une répétition? (loop)\n"
   ]
  },
  {
   "attachments": {},
   "cell_type": "markdown",
   "metadata": {},
   "source": [
    "Une boucle/loop est un moyen de répéter une action plusieurs fois. Vous pouvez utiliser `while` (Tant Que) pour faire celà.\n",
    "> Essayons notre première boucle:"
   ]
  },
  {
   "cell_type": "code",
   "execution_count": 1,
   "metadata": {
    "dotnet_interactive": {
     "language": "csharp"
    }
   },
   "outputs": [
    {
     "name": "stdout",
     "output_type": "stream",
     "text": [
      "Salut à tous! Le compteur vaut 0\n",
      "Salut à tous! Le compteur vaut 1\n",
      "Salut à tous! Le compteur vaut 2\n",
      "Salut à tous! Le compteur vaut 3\n",
      "Salut à tous! Le compteur vaut 4\n",
      "Salut à tous! Le compteur vaut 5\n",
      "Salut à tous! Le compteur vaut 6\n",
      "Salut à tous! Le compteur vaut 7\n",
      "Salut à tous! Le compteur vaut 8\n",
      "Salut à tous! Le compteur vaut 9\n"
     ]
    }
   ],
   "source": [
    "int counter = 0;\n",
    "while (counter < 10)\n",
    "{\n",
    "  Console.WriteLine($\"Salut à tous! Le compteur vaut {counter}\");\n",
    "  counter++;\n",
    "}"
   ]
  },
  {
   "attachments": {},
   "cell_type": "markdown",
   "metadata": {},
   "source": [
    "Que c'est il passé ici? `while` vérifie que la condition ('counter < 10') est vrai. Si c'est le cas, il rentre dans la boucle. Puis, il la vérifie à nouveau. Il va répéter l'opération jusqu'à ce que la condtion soit fausse.\n",
    "Pour comprendre ce qui se passe, exprimons celà en langage naturel : Ce programme fait \"Met la valeur de counter à 0. Tant que counter est plus petit que 10, écrit 'Salut à tous! Le compteur vaut {counter}\" et incrémente counter de 1.\"\n",
    "\n",
    "## ++\n",
    "\n",
    "`++` est une façon rapide d'ajouter 1 à une variable. On peut faire de même avec `--`, qui soustrait 1 à la variable.\n",
    "\n",
    "## Boucle Infinie\n",
    "\n",
    "Il est facile de faire une boucle infinie.  \n",
    "> **Remarque: N'essayez pas de faire une boucle infinie ici, car on ne peut pas arrêter un Notebook !!!!!**  \n",
    "\n",
    "Si vous faites une boucle infinie, vous avez deux options: Sortir du programme, ou appuyer sur CTRL+C.\n",
    "\n",
    "> Challenge: Vous ne pouvez pas essayer dans ce Notebook, parce que le programme ne pourra pas s'arrêter, mais comme challenge, essayez de faire une boucle infinie dans Visual Studio! Quelles sont les différentes manières de faire une boucle infinie? Il arrive de faire des erreurs, mais rappelez vous que l'on peut toujours faire CTRL+C ou terminer le programme."
   ]
  },
  {
   "attachments": {},
   "cell_type": "markdown",
   "metadata": {},
   "source": [
    "## do\n",
    "\n",
    "On peut aussi faire une boucle avec `do`.\n",
    "> Essayez le code ci-dessous et trouvez ce qu'il y a de différent entre celà et la boucle `while`."
   ]
  },
  {
   "cell_type": "code",
   "execution_count": 8,
   "metadata": {
    "dotnet_interactive": {
     "language": "csharp"
    }
   },
   "outputs": [
    {
     "name": "stdout",
     "output_type": "stream",
     "text": [
      "Salut à tous! Le compteur vaut 4\n",
      "Salut à tous! Le compteur vaut 5\n",
      "Salut à tous! Le compteur vaut 6\n",
      "Salut à tous! Le compteur vaut 7\n",
      "Salut à tous! Le compteur vaut 8\n",
      "Salut à tous! Le compteur vaut 9\n",
      "Salut à tous! Le compteur vaut 10\n",
      "Salut à tous! Le compteur vaut 11\n",
      "Salut à tous! Le compteur vaut 12\n",
      "Salut à tous! Le compteur vaut 13\n",
      "Salut à tous! Le compteur vaut 14\n",
      "Salut à tous! Le compteur vaut 15\n"
     ]
    }
   ],
   "source": [
    "int counter = 4;\n",
    "do\n",
    "{\n",
    "  Console.WriteLine($\"Salut à tous! Le compteur vaut {counter}\");\n",
    "  counter++;\n",
    "} while (counter < 16);"
   ]
  },
  {
   "attachments": {},
   "cell_type": "markdown",
   "metadata": {},
   "source": [
    "Hmm, pas si différent à priori, non?\n",
    "\n",
    "> Essayez de modifier la condition par `(counter < 0)` dans les deux codes. Que se passe t'il?\n",
    "\n",
    "Dans la boucle `while`, rien ne s'affiche, mais dans la boucle `do`, vous aurez un affichage. La boucle `do` fait l'action d'abord, puis vérifie la condition. Par contracte, la boucle `while` vérifie la condition d'abord, puis fait l'action."
   ]
  },
  {
   "attachments": {},
   "cell_type": "markdown",
   "metadata": {},
   "source": [
    "## Boucle for\n",
    "\n",
    "`for` est la boucle la plus courante. Celà va répéter l'action un nombre connu de fois.\n",
    "> Avant de voir tout ce que celà signifie, exécutez la boucle for suivante juste pour voir si elle fonctionne :"
   ]
  },
  {
   "cell_type": "code",
   "execution_count": 1,
   "metadata": {
    "dotnet_interactive": {
     "language": "csharp"
    }
   },
   "outputs": [
    {
     "name": "stdout",
     "output_type": "stream",
     "text": [
      "Salut à tous! Le compteur vaut 0\n",
      "Salut à tous! Le compteur vaut 1\n",
      "Salut à tous! Le compteur vaut 2\n",
      "Salut à tous! Le compteur vaut 3\n",
      "Salut à tous! Le compteur vaut 4\n",
      "Salut à tous! Le compteur vaut 5\n",
      "Salut à tous! Le compteur vaut 6\n",
      "Salut à tous! Le compteur vaut 7\n",
      "Salut à tous! Le compteur vaut 8\n",
      "Salut à tous! Le compteur vaut 9\n"
     ]
    }
   ],
   "source": [
    "for (int counter = 0; counter < 10; counter++)\n",
    "{\n",
    "  Console.WriteLine($\"Salut à tous! Le compteur vaut {counter}\");\n",
    "}"
   ]
  },
  {
   "attachments": {},
   "cell_type": "markdown",
   "metadata": {},
   "source": [
    "### Qu'y a t-il dans les parentheses?\n",
    "\n",
    "Il y a trois parties dans les parenthèses d'une boucle `for` : `int counter = 0`, `counter < 10`, et `counter++`.\n",
    "Vous pouvez y penser comme le Point de départ, le Point d'arrivée, et l'Avance d'un pas.  \n",
    "`int counter = 0` donne la valeur à counter. Ici, on commence à 0.  \n",
    "`counter < 10` est la condition qui est vérifiée au départ de chaque boucle. Lorsque la condition est fausse (dans ce cas, lorsque counter esy plus petit que 10), le traitement est executé.  \n",
    "`counter++` incrémente counter de 1, nous rapprochant d'un pas vers la fin. Le pas se fait à la fin du traitement.  \n",
    "> Essayez de modifier ces éléments. Comment est ce que cela change?"
   ]
  },
  {
   "attachments": {},
   "cell_type": "markdown",
   "metadata": {},
   "source": [
    "# Playground\n",
    "\n",
    "Testez ce que vous avez appris, voilà quelques idées:\n",
    "> Faites une boucle qui compte à l'envers à partir de 10.\n",
    ">\n",
    "> Faites une boucle qui avance de 2 à chaque pas.\n",
    ">\n",
    "> Faites une boucle qui compte de 7 à 22 inclus.\n",
    ">\n",
    "> Bonus: Faites les exercices ci-dessus avec les trois types de répétitions."
   ]
  },
  {
   "cell_type": "code",
   "execution_count": 1,
   "metadata": {
    "dotnet_interactive": {
     "language": "csharp"
    }
   },
   "outputs": [
    {
     "name": "stdout",
     "output_type": "stream",
     "text": [
      "Salut à tous! Le compteur vaut 0\n",
      "Hello\n",
      "Hello\n",
      "Salut à tous! Le compteur vaut 1\n",
      "Hello\n",
      "Hello\n",
      "Salut à tous! Le compteur vaut 2\n",
      "Hello\n",
      "Hello\n",
      "Salut à tous! Le compteur vaut 3\n",
      "Hello\n",
      "Hello\n",
      "Salut à tous! Le compteur vaut 4\n",
      "Hello\n",
      "Hello\n",
      "Salut à tous! Le compteur vaut 5\n",
      "Hello\n",
      "Hello\n",
      "Salut à tous! Le compteur vaut 6\n",
      "Hello\n",
      "Hello\n",
      "Salut à tous! Le compteur vaut 7\n",
      "Hello\n",
      "Hello\n",
      "Salut à tous! Le compteur vaut 8\n",
      "Hello\n",
      "Hello\n",
      "Salut à tous! Le compteur vaut 9\n",
      "Hello\n",
      "Hello\n"
     ]
    }
   ],
   "source": [
    "for (int counter = 0; counter <  10; counter++)\n",
    "{\n",
    "  Console.WriteLine($\"Salut à tous! Le compteur vaut {counter}\");\n",
    "  Console.WriteLine(\"Hello\");\n",
    "  Console.WriteLine(\"Hello\");\n",
    "} //pas fini "
   ]
  }
 ],
 "metadata": {
  "kernelspec": {
   "display_name": ".NET (C#)",
   "language": "C#",
   "name": ".net-csharp"
  },
  "language_info": {
   "name": "polyglot-notebook"
  },
  "polyglot_notebook": {
   "kernelInfo": {
    "defaultKernelName": "csharp",
    "items": [
     {
      "aliases": [],
      "name": ".NET"
     },
     {
      "aliases": [
       "C#",
       "c#"
      ],
      "languageName": "C#",
      "name": "csharp"
     },
     {
      "aliases": [
       "F#",
       "f#"
      ],
      "languageName": "F#",
      "name": "fsharp"
     },
     {
      "aliases": [],
      "languageName": "HTML",
      "name": "html"
     },
     {
      "aliases": [],
      "languageName": "KQL",
      "name": "kql"
     },
     {
      "aliases": [],
      "languageName": "Mermaid",
      "name": "mermaid"
     },
     {
      "aliases": [
       "powershell"
      ],
      "languageName": "PowerShell",
      "name": "pwsh"
     },
     {
      "aliases": [],
      "languageName": "SQL",
      "name": "sql"
     },
     {
      "aliases": [],
      "name": "value"
     },
     {
      "aliases": [
       "frontend"
      ],
      "name": "vscode"
     }
    ]
   }
  }
 },
 "nbformat": 4,
 "nbformat_minor": 2
}
