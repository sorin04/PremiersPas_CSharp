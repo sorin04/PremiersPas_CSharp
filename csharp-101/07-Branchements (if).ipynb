{
 "cells": [
  {
   "attachments": {},
   "cell_type": "markdown",
   "metadata": {},
   "source": [
    "# Branchements (if)\n",
    "\n"
   ]
  },
  {
   "attachments": {},
   "cell_type": "markdown",
   "metadata": {},
   "source": [
    "## If\n",
    "\n",
    "L'instruction `if` prend des décisions.\n",
    "\n",
    "> Essayons notre premier `if`:"
   ]
  },
  {
   "cell_type": "code",
   "execution_count": 7,
   "metadata": {
    "dotnet_interactive": {
     "language": "csharp"
    }
   },
   "outputs": [
    {
     "name": "stdout",
     "output_type": "stream",
     "text": [
      "Le résultat est plus grand que 10.\r\n"
     ]
    }
   ],
   "source": [
    "int a = 5;\n",
    "int b = 6;\n",
    "if (a + b > 10)\n",
    "    Console.WriteLine(\"Le résultat est plus grand que 10.\");\n",
    "    else\n",
    "    {\n",
    "    Console.WriteLine(\"Le résultat est plus petit que 10. \");\n",
    "\n",
    "    }"
   ]
  },
  {
   "attachments": {},
   "cell_type": "markdown",
   "metadata": {},
   "source": [
    "En clair, cette instruction `if` dit \"si a plus b est plus grand que 10, écris la ligne 'Le résultat est plus grand que 10.' \".\n",
    "> Que ce passe t'il si le résultat est plus petit que 10? Modifiez le code pour vérifier.\n",
    "\n",
    "Rien ne s'est passé? Parfait! Dans la mesure où la **condition** (a + b est plus grand que  10) de l'instruction if n'est pas remplie, le programme ne rentre pas dans l'instruction if, et donc il n'y a rien à afficher.\n"
   ]
  },
  {
   "attachments": {},
   "cell_type": "markdown",
   "metadata": {},
   "source": [
    "## Qu'est-ce qu'une condition?\n",
    "\n",
    "Une `condition` est l'instruction entre parenthèse après le `if`. Une `condition` est un booléen, ce qui veut dire qu'elle est soit vraie soit fausse. Celà signifie que l'on peut utiliser des symboles tels que `>`, `<`, `<=`, `>=` ou `==`.\n",
    "> Essayez le. Utilisez différents symboles et différents nombres."
   ]
  },
  {
   "cell_type": "code",
   "execution_count": 5,
   "metadata": {
    "dotnet_interactive": {
     "language": "csharp"
    }
   },
   "outputs": [
    {
     "name": "stdout",
     "output_type": "stream",
     "text": [
      "Cette condition est False\r\n"
     ]
    }
   ],
   "source": [
    "bool outcome = 4 >= 5;\n",
    "Console.WriteLine(\"Cette condition est \" +outcome);"
   ]
  },
  {
   "attachments": {},
   "cell_type": "markdown",
   "metadata": {},
   "source": [
    "## Else\n",
    "\n",
    "Précédemment, si la condition du `if` n'est pas remplie, la totalité du code est ignoré. Mais comment faire pour que quelque chose se passe dans tous les cas ? `else` est ce qui se passe quand la condition devient fausse.\n",
    "\n",
    "> Testez ce programme et changez la condition plusieurs fois pour voir ce qui se passe."
   ]
  },
  {
   "cell_type": "code",
   "execution_count": 7,
   "metadata": {
    "dotnet_interactive": {
     "language": "csharp"
    }
   },
   "outputs": [
    {
     "name": "stdout",
     "output_type": "stream",
     "text": [
      "La réponse n'est pas supérieure à 10\r\n"
     ]
    }
   ],
   "source": [
    "int a = 5;\n",
    "int b = 5;\n",
    "if (a + b > 10)\n",
    "    Console.WriteLine(\"La réponse est supérieure 10\");\n",
    "else\n",
    "    Console.WriteLine(\"La réponse n'est pas supérieure à 10\");"
   ]
  },
  {
   "attachments": {},
   "cell_type": "markdown",
   "metadata": {},
   "source": [
    "## Instruction If Multi-ligne\n",
    "\n",
    "Que faire s'il on veut un code plus complexe pour notre instruction `if` ? C'est simple, il sufit de rajouter des accolades autour de bloc de code.\n",
    "\n",
    "> Essayez."
   ]
  },
  {
   "cell_type": "code",
   "execution_count": 12,
   "metadata": {
    "dotnet_interactive": {
     "language": "csharp"
    }
   },
   "outputs": [
    {
     "name": "stdout",
     "output_type": "stream",
     "text": [
      "La réponse est supérieure 10\n",
      "Et le premier nombre est égal au second\n"
     ]
    }
   ],
   "source": [
    "int c = 4;\n",
    "if ((a + b + c > 10) && (a == b))\n",
    "{\n",
    "    Console.WriteLine(\"La réponse est supérieure 10\");\n",
    "    Console.WriteLine(\"Et le premier nombre est égal au second\");\n",
    "}\n",
    "else\n",
    "{\n",
    "    Console.WriteLine(\"La réponse n'est pas supérieure 10\");\n",
    "    Console.WriteLine(\"Ou le premier nombre n'est pas égal au second\");\n",
    "}"
   ]
  },
  {
   "attachments": {},
   "cell_type": "markdown",
   "metadata": {},
   "source": [
    "`&&` signifie \"et\". C'est un moyen de lier plusieurs conditions. Vous pouvez aussi utiliser `||` pour \"ou\".\n",
    "\n",
    "  L'instruction `if` ci-dessus vérifie que l'addition de a, b, et c est supérieure à 10 ET que a est égal à b. Si les deux sont vrais, le programme rentre dans le `if` sinon, il va dans la partie liée au `else`."
   ]
  },
  {
   "attachments": {},
   "cell_type": "markdown",
   "metadata": {},
   "source": [
    "# Playground\n",
    "\n",
    "Testez ce que vous avez appris, voilà quelques idées:\n",
    "> Essayez le symbole \"ou\" à la place du \"et\" dans le code précédent. Que faut il faire pour passer de vrai à faux?\n",
    ">\n",
    "> Comment faire pour mettre une instruction `if` dans le code d'un `if`(un `if` imbriqué)?\n",
    ">\n",
    "> Pouvez vous dessiner le déroulement d'une instruction `if`? Un `if` imbriqué?"
   ]
  },
  {
   "cell_type": "code",
   "execution_count": 28,
   "metadata": {
    "dotnet_interactive": {
     "language": "csharp"
    }
   },
   "outputs": [
    {
     "name": "stdout",
     "output_type": "stream",
     "text": [
      "Playground\n",
      "La reponse est superieur a 10 ou le premier nombre est superieur au second\n",
      "Le premier nombre est superieur au second\n"
     ]
    }
   ],
   "source": [
    "Console.WriteLine(\"Playground\");\n",
    "int c = 7;\n",
    "\n",
    "if ((a + b + c > 10) || (a == b))\n",
    "{\n",
    "  Console.WriteLine(\"La reponse est superieur a 10 ou le premier nombre est superieur au second\");\n",
    "  if(a>b)\n",
    "  {\n",
    "    Console.WriteLine(\"Le premier nombre est superieur au second\");\n",
    "  }else\n",
    "  {\n",
    "    Console.WriteLine(\"Le premier nombre n'est pas superieur au second\");\n",
    "  }\n",
    "\n",
    "\n",
    "\n",
    "} else\n",
    "{\n",
    "  Console.WriteLine(\"Le premier nombre n'est pas superieur a 10 et le premier nombre n'est pas egal au second\");\n",
    "}"
   ]
  }
 ],
 "metadata": {
  "kernelspec": {
   "display_name": ".NET (C#)",
   "language": "C#",
   "name": ".net-csharp"
  },
  "language_info": {
   "name": "polyglot-notebook"
  },
  "polyglot_notebook": {
   "kernelInfo": {
    "defaultKernelName": "csharp",
    "items": [
     {
      "aliases": [],
      "name": ".NET"
     },
     {
      "aliases": [
       "C#",
       "c#"
      ],
      "languageName": "C#",
      "name": "csharp"
     },
     {
      "aliases": [
       "F#",
       "f#"
      ],
      "languageName": "F#",
      "name": "fsharp"
     },
     {
      "aliases": [],
      "languageName": "HTML",
      "name": "html"
     },
     {
      "aliases": [
       "js"
      ],
      "languageName": "JavaScript",
      "name": "javascript"
     },
     {
      "aliases": [],
      "languageName": "KQL",
      "name": "kql"
     },
     {
      "aliases": [],
      "languageName": "Mermaid",
      "name": "mermaid"
     },
     {
      "aliases": [
       "powershell"
      ],
      "languageName": "PowerShell",
      "name": "pwsh"
     },
     {
      "aliases": [],
      "languageName": "SQL",
      "name": "sql"
     },
     {
      "aliases": [],
      "name": "value"
     },
     {
      "aliases": [
       "frontend"
      ],
      "name": "vscode"
     },
     {
      "aliases": [],
      "name": "webview"
     }
    ]
   }
  }
 },
 "nbformat": 4,
 "nbformat_minor": 2
}
