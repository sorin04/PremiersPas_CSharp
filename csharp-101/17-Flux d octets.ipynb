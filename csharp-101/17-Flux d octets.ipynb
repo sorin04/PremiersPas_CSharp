{
 "cells": [
  {
   "attachments": {},
   "cell_type": "markdown",
   "metadata": {},
   "source": [
    "# Flux d'octets\n",
    "\n",
    "Un Flux (**Stream** en Anglais) est une vue sur une suite d'Octets (`byte[]`).   \n",
    "Dans la suite de ce Notebook, nous allons principalement parler de flux de fichiers `FileStream`, mais comme un flux est générique, les éléments que nous allons aborder s'appliquent également à d'autres formes de flux, telles que les `NetworkStream`, `MemoryStream`, `CryptoStream`, ...   "
   ]
  },
  {
   "attachments": {},
   "cell_type": "markdown",
   "metadata": {},
   "source": [
    "## De Byte à String\n",
    "\n",
    "Une chaine de caractères est ... une suite de caractères ;)   \n",
    "Mais un caractère ne tient pas forcément sur 1 `Byte`, ça va dépendre de **l'encodage** utilisé.  \n",
    "L'encodage le plus ancien c'est **ASCII**: Il tient sur 1 Octet, et est suffisant pour les 26 lettres de l'alphabet occidental, avec les majuscules, les minuscules, les chiffres, les caractères spéciaux.   \n",
    "Mais pour supporter plus de possiblités (Cyrillique, Kanjii, Hangul, ...), on a crée d'autres formes d'encodage tels que **Unicode**, **UTF-8**, **UTF-16**, ... Or en **UTF-8** par exemple, l'encodage d'un caractère peut se faire sur 1 à 4 Octets !! Il est donc **impossible** de lire convertir directement 1 Caractère en 1 Octet.\n",
    "\n",
    "En C#, il existe des **encoders** qui vont nous permettre de passer de l'un à l'autre, mais celà sous entend que vous savez ce que vous manipulez.  \n",
    "\n",
    "> Par exemple, on peut passer d'une chaine à un tableau d'octets...\n"
   ]
  },
  {
   "cell_type": "code",
   "execution_count": null,
   "metadata": {
    "dotnet_interactive": {
     "language": "csharp"
    },
    "polyglot_notebook": {
     "kernelName": "csharp"
    }
   },
   "outputs": [],
   "source": [
    "string chaine = \"Bonjour à tous ! Voici quelques caractères internationaux : é, ô, ü, ß\";\n",
    "ASCIIEncoding ascii = new ASCIIEncoding();\n",
    "UTF8Encoding utf8 = new UTF8Encoding();\n",
    "byte[] infoAscii = ascii.GetBytes(chaine);\n",
    "byte[] infoUtf8 = utf8.GetBytes(chaine);\n",
    "\n",
    "Console.WriteLine( $\"En ASCII, nous avons {infoAscii.Length} octets\");\n",
    "Console.WriteLine( $\"En UTF8, nous avons {infoUtf8.Length} octets\");"
   ]
  },
  {
   "attachments": {},
   "cell_type": "markdown",
   "metadata": {},
   "source": [
    "> ... et d'un tableau d'octets à une chaine   \n",
    "\n",
    "Pour cela, il va falloir préciser l'**encoder**, le tableau contenant les infos, mais aussi, la position dans le tableau à laquelle on démarre, et sur combien d'octets.   \n",
    "On peut aussi tout simplement donner le tableau d'octets, et le C# décodera l'ensemble."
   ]
  },
  {
   "cell_type": "code",
   "execution_count": null,
   "metadata": {
    "dotnet_interactive": {
     "language": "csharp"
    },
    "polyglot_notebook": {
     "kernelName": "csharp"
    }
   },
   "outputs": [],
   "source": [
    "string nouvelleChaine = ascii.GetString( infoAscii, 0, infoAscii.Length );\n",
    "Console.WriteLine( nouvelleChaine );\n",
    "\n",
    "nouvelleChaine = utf8.GetString( infoUtf8 );\n",
    "Console.WriteLine( nouvelleChaine );\n"
   ]
  },
  {
   "attachments": {},
   "cell_type": "markdown",
   "metadata": {},
   "source": [
    "## Ecriture dans un flux\n",
    "\n",
    "On va écrire des Octets qui, comme pour les manipulations précédentes, peuvent être issus de chaines de caractères après conversion."
   ]
  },
  {
   "cell_type": "code",
   "execution_count": null,
   "metadata": {
    "dotnet_interactive": {
     "language": "csharp"
    },
    "polyglot_notebook": {
     "kernelName": "csharp"
    }
   },
   "outputs": [],
   "source": [
    "using System.IO;\n",
    "// Notre fichier Test\n",
    "string path = @\"c:\\temp\\MyTest.txt\";\n",
    "// On supprime s'il existe\n",
    "if (File.Exists(path))\n",
    "{\n",
    "    File.Delete(path);\n",
    "}\n",
    "// Creation du fichier et fabrication du flux.\n",
    "FileStream flux = File.Create(path);\n",
    "\n",
    "string duTexte = \"Voilà un peu de texte\";\n",
    "UTF8Encoding utf8 = new UTF8Encoding();\n",
    "byte[] infoUtf8 = utf8.GetBytes(duTexte);\n",
    "flux.Write( infoUtf8 );\n",
    "// !!! Attention !!! N'oubliez pas de fermer le flux quand vous avez terminé !!!\n",
    "flux.Close();\n"
   ]
  },
  {
   "attachments": {},
   "cell_type": "markdown",
   "metadata": {},
   "source": [
    "## Ouverture / Fermeture\n",
    "\n",
    "Un problème que l'on rencontre souvent, est l'oubli de la fermeture du flux. Dans une telle situation, c'est le **Garbage Collector** (**Ramasse Miettes** en français) qui va décider du moment de fermeture, et ce sera au moment où la variable sera supprimée de la mémoire, donc un moment que nous ne maitrisons pas.\n",
    "\n",
    "> Essayez à nouveau le code précédent, mais mettez d'abord en commentaires la fermeture.  \n",
    "A la première execution vous ne verrez pas de changement, mais si vous essayez une deuxième fois, quelles sont les conséquences ?\n",
    "Vous allez surement devoir fermer VSCode pour passer à la suite...."
   ]
  },
  {
   "attachments": {},
   "cell_type": "markdown",
   "metadata": {},
   "source": [
    "## Durée de vie d'une variable : instruction `using`\n",
    "\n",
    "L’instruction `using` fournit une syntaxe pratique qui garantit l’utilisation correcte d’objets en précisant leur durée de vie.   \n",
    "\n",
    "> Le code ci-dessous remplit la même fonction que le précédent, mais en précisant quand _créer_ et _supprimer_ la variable de flux.   \n",
    "> La _suppression_ du flux entraine la fermeture du flux, car la classe `FileStream` est écrite comme cela."
   ]
  },
  {
   "cell_type": "code",
   "execution_count": null,
   "metadata": {
    "dotnet_interactive": {
     "language": "csharp"
    },
    "polyglot_notebook": {
     "kernelName": "csharp"
    }
   },
   "outputs": [],
   "source": [
    "using System.IO;\n",
    "// Notre fichier Test\n",
    "string path = @\"c:\\temp\\MyTest.txt\";\n",
    "// On supprime s'il existe\n",
    "if (File.Exists(path))\n",
    "{\n",
    "    File.Delete(path);\n",
    "}\n",
    "// Creation du fichier et fabrication du flux.\n",
    "using ( FileStream flux = File.Create(path) )\n",
    "{\n",
    "    string duTexte = \"Voilà un peu de texte\";\n",
    "\n",
    "    UTF8Encoding utf8 = new UTF8Encoding();\n",
    "    byte[] infoUtf8 = utf8.GetBytes(duTexte);\n",
    "    flux.Write( infoUtf8 );\n",
    "}\n",
    "// "
   ]
  },
  {
   "attachments": {},
   "cell_type": "markdown",
   "metadata": {},
   "source": [
    "# Lecture d'un flux\n",
    "\n",
    "Et maintenant, comment lire un flux ?\n",
    "\n",
    "On va tout d'abord l'ouvrir en précisant son chemin d'accès mais également son mode d'ouverture, via l'énumération [FileMode](https://learn.microsoft.com/fr-fr/dotnet/api/system.io.filemode?view=net-7.0)."
   ]
  },
  {
   "cell_type": "code",
   "execution_count": null,
   "metadata": {
    "dotnet_interactive": {
     "language": "csharp"
    },
    "polyglot_notebook": {
     "kernelName": "csharp"
    }
   },
   "outputs": [],
   "source": [
    "FileStream flux = File.Open(path, FileMode.Open );"
   ]
  },
  {
   "attachments": {},
   "cell_type": "markdown",
   "metadata": {},
   "source": [
    "On peut maintenant récupérer la taille du flux, réserver un tableau d'octets, pour y stocker l'ensemble des octets."
   ]
  },
  {
   "cell_type": "code",
   "execution_count": null,
   "metadata": {
    "dotnet_interactive": {
     "language": "csharp"
    },
    "polyglot_notebook": {
     "kernelName": "csharp"
    }
   },
   "outputs": [],
   "source": [
    "var taille = flux.Length;\n",
    "byte[] contenu = new byte[taille];\n",
    "flux.Read( contenu, 0, (int)taille );\n",
    "Console.WriteLine( $\"{taille} Octets lus.\");"
   ]
  },
  {
   "attachments": {},
   "cell_type": "markdown",
   "metadata": {},
   "source": [
    "Sans oublier de fermer le flux..."
   ]
  },
  {
   "cell_type": "code",
   "execution_count": null,
   "metadata": {
    "dotnet_interactive": {
     "language": "csharp"
    },
    "polyglot_notebook": {
     "kernelName": "csharp"
    }
   },
   "outputs": [],
   "source": [
    "flux.Close();"
   ]
  },
  {
   "attachments": {},
   "cell_type": "markdown",
   "metadata": {},
   "source": [
    "Il est à noter que comme on lit le flux d'octets, on avance dans le fichier.  \n",
    "Le **pointeur de fichier** mémorise où on se trouve dans le fichier, et il est possible de l'avancer comme on le souhaite à l'aide de `Seek`.\n",
    "\n",
    "> Ainsi, on va se positionner sur les 5 derniers octets de fichiers, avant de les lire et d'afficher leur valeur en Hexadecimal, Décimal et Caractère.   \n",
    "> On remarquera le contenu de la chaine d'interpolation : `{index[,alignment][:formatString]}`"
   ]
  },
  {
   "cell_type": "code",
   "execution_count": null,
   "metadata": {
    "dotnet_interactive": {
     "language": "csharp"
    },
    "polyglot_notebook": {
     "kernelName": "csharp"
    }
   },
   "outputs": [],
   "source": [
    "FileStream flux = File.Open(path, FileMode.Open );\n",
    "var taille = flux.Length;\n",
    "if ( taille > 6 )\n",
    "    flux.Seek( taille - 6, SeekOrigin.Begin );\n",
    "byte[] contenu = new byte[6];\n",
    "flux.Read( contenu, 0, contenu.Length );\n",
    "flux.Close();\n",
    "\n",
    "foreach( byte b in contenu)\n",
    "{\n",
    "    Console.WriteLine( $\"0x{b:X2} - {b,3} - {(char)b}\");\n",
    "}"
   ]
  },
  {
   "attachments": {},
   "cell_type": "markdown",
   "metadata": {},
   "source": [
    "Et on peut aussi également lire le contenu complet du fichier en une seule fois."
   ]
  },
  {
   "cell_type": "code",
   "execution_count": null,
   "metadata": {
    "dotnet_interactive": {
     "language": "csharp"
    },
    "polyglot_notebook": {
     "kernelName": "csharp"
    }
   },
   "outputs": [],
   "source": [
    "var contenu = File.ReadAllBytes( path );\n",
    "Console.WriteLine( $\"{contenu.Length} Octets lus.\");"
   ]
  },
  {
   "attachments": {},
   "cell_type": "markdown",
   "metadata": {},
   "source": [
    "# Terrain de jeu: A vous de jouer\n",
    "\n",
    "Réaliser un programme qui peut lire un fichier texte, et le reécrire à l'envers.   \n",
    "> 1. Le nouveau fichier aura le nom du fichier d'orgine, mais l'envers. (Y compris l'extension)\n",
    "> 2. Le contenu du nouveau fichier sera le même que celui d'origine, mais à l'envers...caractère par caractère.\n",
    "> 3. Afficher le contenu du nouveau fichier.\n",
    "> 4. Une fois la copie réalisée, écrivez le code permettant de vérifier que les fichiers sont effectivement \"symétriques\".\n"
   ]
  },
  {
   "cell_type": "code",
   "execution_count": null,
   "metadata": {
    "dotnet_interactive": {
     "language": "csharp"
    }
   },
   "outputs": [],
   "source": [
    "Console.WriteLine(\"Playground\");"
   ]
  }
 ],
 "metadata": {
  "kernelspec": {
   "display_name": ".NET (C#)",
   "language": "C#",
   "name": ".net-csharp"
  },
  "language_info": {
   "name": "polyglot-notebook"
  },
  "polyglot_notebook": {
   "kernelInfo": {
    "defaultKernelName": "csharp",
    "items": [
     {
      "aliases": [],
      "name": ".NET"
     },
     {
      "aliases": [
       "C#",
       "c#"
      ],
      "languageName": "C#",
      "name": "csharp"
     },
     {
      "aliases": [
       "F#",
       "f#"
      ],
      "languageName": "F#",
      "name": "fsharp"
     },
     {
      "aliases": [],
      "languageName": "HTML",
      "name": "html"
     },
     {
      "aliases": [
       "js"
      ],
      "languageName": "JavaScript",
      "name": "javascript"
     },
     {
      "aliases": [],
      "languageName": "KQL",
      "name": "kql"
     },
     {
      "aliases": [],
      "languageName": "Mermaid",
      "name": "mermaid"
     },
     {
      "aliases": [
       "powershell"
      ],
      "languageName": "PowerShell",
      "name": "pwsh"
     },
     {
      "aliases": [],
      "languageName": "SQL",
      "name": "sql"
     },
     {
      "aliases": [],
      "name": "value"
     },
     {
      "aliases": [
       "frontend"
      ],
      "name": "vscode"
     },
     {
      "aliases": [],
      "name": "webview"
     }
    ]
   }
  }
 },
 "nbformat": 4,
 "nbformat_minor": 2
}
